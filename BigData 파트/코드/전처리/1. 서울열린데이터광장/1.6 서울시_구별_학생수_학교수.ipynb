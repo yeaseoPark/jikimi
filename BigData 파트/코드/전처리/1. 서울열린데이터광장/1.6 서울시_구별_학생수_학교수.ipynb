{
 "cells": [
  {
   "cell_type": "markdown",
   "id": "8a359291-35d0-407f-931f-fa556683ee39",
   "metadata": {},
   "source": [
    "# 서울시 구별 학생 수, 학교 수\n",
    "- 구 별로 대상 학생 수 합계 , 학교 수 합계 계산"
   ]
  },
  {
   "cell_type": "code",
   "execution_count": 87,
   "id": "e7bae474-c8ff-4534-9fe0-77fbefdbdc53",
   "metadata": {
    "execution": {
     "iopub.execute_input": "2023-01-25T07:03:23.302465Z",
     "iopub.status.busy": "2023-01-25T07:03:23.302465Z",
     "iopub.status.idle": "2023-01-25T07:03:23.313436Z",
     "shell.execute_reply": "2023-01-25T07:03:23.312438Z",
     "shell.execute_reply.started": "2023-01-25T07:03:23.302465Z"
    },
    "tags": []
   },
   "outputs": [],
   "source": [
    "import pandas as pd\n",
    "import numpy as np"
   ]
  },
  {
   "cell_type": "code",
   "execution_count": 88,
   "id": "5c088bc4-aee9-4bbc-b91e-40b2cddb4fe7",
   "metadata": {
    "execution": {
     "iopub.execute_input": "2023-01-25T07:03:23.314434Z",
     "iopub.status.busy": "2023-01-25T07:03:23.314434Z",
     "iopub.status.idle": "2023-01-25T07:03:23.343356Z",
     "shell.execute_reply": "2023-01-25T07:03:23.343356Z",
     "shell.execute_reply.started": "2023-01-25T07:03:23.314434Z"
    },
    "tags": []
   },
   "outputs": [
    {
     "data": {
      "text/html": [
       "<div>\n",
       "<style scoped>\n",
       "    .dataframe tbody tr th:only-of-type {\n",
       "        vertical-align: middle;\n",
       "    }\n",
       "\n",
       "    .dataframe tbody tr th {\n",
       "        vertical-align: top;\n",
       "    }\n",
       "\n",
       "    .dataframe thead th {\n",
       "        text-align: right;\n",
       "    }\n",
       "</style>\n",
       "<table border=\"1\" class=\"dataframe\">\n",
       "  <thead>\n",
       "    <tr style=\"text-align: right;\">\n",
       "      <th></th>\n",
       "      <th>시군구</th>\n",
       "      <th>학교명</th>\n",
       "      <th>구분</th>\n",
       "      <th>대상 학생 수</th>\n",
       "      <th>학생 수</th>\n",
       "      <th>참여율(고등학교별 전국참여율)</th>\n",
       "      <th>피해 응답 학생 수</th>\n",
       "    </tr>\n",
       "  </thead>\n",
       "  <tbody>\n",
       "    <tr>\n",
       "      <th>0</th>\n",
       "      <td>강남구</td>\n",
       "      <td>개포고등학교</td>\n",
       "      <td>2021학년도</td>\n",
       "      <td>640</td>\n",
       "      <td>584</td>\n",
       "      <td>91.3(  85.2)</td>\n",
       "      <td>2</td>\n",
       "    </tr>\n",
       "    <tr>\n",
       "      <th>1</th>\n",
       "      <td>강남구</td>\n",
       "      <td>경기고등학교</td>\n",
       "      <td>2021학년도</td>\n",
       "      <td>1,100</td>\n",
       "      <td>689</td>\n",
       "      <td>62.6(  85.2)</td>\n",
       "      <td>3</td>\n",
       "    </tr>\n",
       "    <tr>\n",
       "      <th>2</th>\n",
       "      <td>강남구</td>\n",
       "      <td>경기여자고등학교</td>\n",
       "      <td>2021학년도</td>\n",
       "      <td>1,095</td>\n",
       "      <td>962</td>\n",
       "      <td>87.9(  85.2)</td>\n",
       "      <td>1</td>\n",
       "    </tr>\n",
       "    <tr>\n",
       "      <th>3</th>\n",
       "      <td>강남구</td>\n",
       "      <td>국립국악고등학교</td>\n",
       "      <td>2021학년도</td>\n",
       "      <td>438</td>\n",
       "      <td>372</td>\n",
       "      <td>84.9(  85.2)</td>\n",
       "      <td>0</td>\n",
       "    </tr>\n",
       "    <tr>\n",
       "      <th>4</th>\n",
       "      <td>강남구</td>\n",
       "      <td>단국대학교부속소프트웨어고등학교</td>\n",
       "      <td>2021학년도</td>\n",
       "      <td>267</td>\n",
       "      <td>261</td>\n",
       "      <td>97.8(  85.2)</td>\n",
       "      <td>0</td>\n",
       "    </tr>\n",
       "    <tr>\n",
       "      <th>...</th>\n",
       "      <td>...</td>\n",
       "      <td>...</td>\n",
       "      <td>...</td>\n",
       "      <td>...</td>\n",
       "      <td>...</td>\n",
       "      <td>...</td>\n",
       "      <td>...</td>\n",
       "    </tr>\n",
       "    <tr>\n",
       "      <th>315</th>\n",
       "      <td>중랑구</td>\n",
       "      <td>원묵고등학교</td>\n",
       "      <td>2021학년도</td>\n",
       "      <td>643</td>\n",
       "      <td>591</td>\n",
       "      <td>91.9(  85.2)</td>\n",
       "      <td>0</td>\n",
       "    </tr>\n",
       "    <tr>\n",
       "      <th>316</th>\n",
       "      <td>중랑구</td>\n",
       "      <td>이화여자대학교병설미디어고등학교</td>\n",
       "      <td>2021학년도</td>\n",
       "      <td>537</td>\n",
       "      <td>431</td>\n",
       "      <td>80.3(  85.2)</td>\n",
       "      <td>0</td>\n",
       "    </tr>\n",
       "    <tr>\n",
       "      <th>317</th>\n",
       "      <td>중랑구</td>\n",
       "      <td>중화고등학교</td>\n",
       "      <td>2021학년도</td>\n",
       "      <td>542</td>\n",
       "      <td>345</td>\n",
       "      <td>63.7(  85.2)</td>\n",
       "      <td>2</td>\n",
       "    </tr>\n",
       "    <tr>\n",
       "      <th>318</th>\n",
       "      <td>중랑구</td>\n",
       "      <td>태릉고등학교</td>\n",
       "      <td>2021학년도</td>\n",
       "      <td>708</td>\n",
       "      <td>577</td>\n",
       "      <td>81.5(  85.2)</td>\n",
       "      <td>1</td>\n",
       "    </tr>\n",
       "    <tr>\n",
       "      <th>319</th>\n",
       "      <td>중랑구</td>\n",
       "      <td>혜원여자고등학교</td>\n",
       "      <td>2021학년도</td>\n",
       "      <td>588</td>\n",
       "      <td>407</td>\n",
       "      <td>69.2(  85.2)</td>\n",
       "      <td>0</td>\n",
       "    </tr>\n",
       "  </tbody>\n",
       "</table>\n",
       "<p>320 rows × 7 columns</p>\n",
       "</div>"
      ],
      "text/plain": [
       "     시군구               학교명       구분 대상 학생 수 학생 수 참여율(고등학교별 전국참여율)  피해 응답 학생 수\n",
       "0    강남구            개포고등학교  2021학년도     640  584     91.3(  85.2)           2\n",
       "1    강남구            경기고등학교  2021학년도   1,100  689     62.6(  85.2)           3\n",
       "2    강남구          경기여자고등학교  2021학년도   1,095  962     87.9(  85.2)           1\n",
       "3    강남구          국립국악고등학교  2021학년도     438  372     84.9(  85.2)           0\n",
       "4    강남구  단국대학교부속소프트웨어고등학교  2021학년도     267  261     97.8(  85.2)           0\n",
       "..   ...               ...      ...     ...  ...              ...         ...\n",
       "315  중랑구            원묵고등학교  2021학년도     643  591     91.9(  85.2)           0\n",
       "316  중랑구  이화여자대학교병설미디어고등학교  2021학년도     537  431     80.3(  85.2)           0\n",
       "317  중랑구            중화고등학교  2021학년도     542  345     63.7(  85.2)           2\n",
       "318  중랑구            태릉고등학교  2021학년도     708  577     81.5(  85.2)           1\n",
       "319  중랑구          혜원여자고등학교  2021학년도     588  407     69.2(  85.2)           0\n",
       "\n",
       "[320 rows x 7 columns]"
      ]
     },
     "execution_count": 88,
     "metadata": {},
     "output_type": "execute_result"
    }
   ],
   "source": [
    "# 크롤링 데이터 불러오기\n",
    "school_original_data = pd.read_csv(\"D:\\MultiCampus\\DATAexam\\융복합\\폭력분석\\data\\학교알리미_2021_서울_학교폭력실태조사_참여현황.csv\")\n",
    "school_original_data"
   ]
  },
  {
   "cell_type": "code",
   "execution_count": 89,
   "id": "f590bce1-7c7c-47a6-a786-6e6191703e86",
   "metadata": {
    "execution": {
     "iopub.execute_input": "2023-01-25T07:03:23.344400Z",
     "iopub.status.busy": "2023-01-25T07:03:23.344400Z",
     "iopub.status.idle": "2023-01-25T07:03:23.359313Z",
     "shell.execute_reply": "2023-01-25T07:03:23.358315Z",
     "shell.execute_reply.started": "2023-01-25T07:03:23.344400Z"
    },
    "tags": []
   },
   "outputs": [
    {
     "data": {
      "text/plain": [
       "시군구                 object\n",
       "학교명                 object\n",
       "구분                  object\n",
       "대상 학생 수             object\n",
       "학생 수                object\n",
       "참여율(고등학교별 전국참여율)    object\n",
       "피해 응답 학생 수           int64\n",
       "dtype: object"
      ]
     },
     "execution_count": 89,
     "metadata": {},
     "output_type": "execute_result"
    }
   ],
   "source": [
    "# 대상 학생 수의 타입 -> object\n",
    "school_original_data.dtypes"
   ]
  },
  {
   "cell_type": "code",
   "execution_count": 90,
   "id": "0f3b4beb-eb30-4f00-9a39-90c797aced8e",
   "metadata": {
    "execution": {
     "iopub.execute_input": "2023-01-25T07:03:23.360310Z",
     "iopub.status.busy": "2023-01-25T07:03:23.360310Z",
     "iopub.status.idle": "2023-01-25T07:03:23.374273Z",
     "shell.execute_reply": "2023-01-25T07:03:23.373294Z",
     "shell.execute_reply.started": "2023-01-25T07:03:23.360310Z"
    },
    "tags": []
   },
   "outputs": [],
   "source": [
    "# , 제거 후 int형으로 변경\n",
    "school_original_data['대상 학생 수'] = school_original_data['대상 학생 수'].apply(lambda x: x.replace(',',''))\n",
    "school_original_data['대상 학생 수'] = school_original_data['대상 학생 수'].astype('int')"
   ]
  },
  {
   "cell_type": "code",
   "execution_count": 91,
   "id": "87f16a6a-abe3-4b05-ac0d-2c2b6d424212",
   "metadata": {
    "execution": {
     "iopub.execute_input": "2023-01-25T07:03:23.375272Z",
     "iopub.status.busy": "2023-01-25T07:03:23.375272Z",
     "iopub.status.idle": "2023-01-25T07:03:23.390231Z",
     "shell.execute_reply": "2023-01-25T07:03:23.389233Z",
     "shell.execute_reply.started": "2023-01-25T07:03:23.375272Z"
    },
    "tags": []
   },
   "outputs": [
    {
     "data": {
      "text/plain": [
       "시군구                 object\n",
       "학교명                 object\n",
       "구분                  object\n",
       "대상 학생 수              int32\n",
       "학생 수                object\n",
       "참여율(고등학교별 전국참여율)    object\n",
       "피해 응답 학생 수           int64\n",
       "dtype: object"
      ]
     },
     "execution_count": 91,
     "metadata": {},
     "output_type": "execute_result"
    }
   ],
   "source": [
    "school_original_data.dtypes"
   ]
  },
  {
   "cell_type": "code",
   "execution_count": 95,
   "id": "5d4d2204-a028-491b-addd-a3251835b979",
   "metadata": {
    "execution": {
     "iopub.execute_input": "2023-01-25T07:04:02.911295Z",
     "iopub.status.busy": "2023-01-25T07:04:02.911295Z",
     "iopub.status.idle": "2023-01-25T07:04:02.934193Z",
     "shell.execute_reply": "2023-01-25T07:04:02.933229Z",
     "shell.execute_reply.started": "2023-01-25T07:04:02.911295Z"
    },
    "tags": []
   },
   "outputs": [
    {
     "data": {
      "text/html": [
       "<div>\n",
       "<style scoped>\n",
       "    .dataframe tbody tr th:only-of-type {\n",
       "        vertical-align: middle;\n",
       "    }\n",
       "\n",
       "    .dataframe tbody tr th {\n",
       "        vertical-align: top;\n",
       "    }\n",
       "\n",
       "    .dataframe thead th {\n",
       "        text-align: right;\n",
       "    }\n",
       "</style>\n",
       "<table border=\"1\" class=\"dataframe\">\n",
       "  <thead>\n",
       "    <tr style=\"text-align: right;\">\n",
       "      <th></th>\n",
       "      <th>대상 학생 수</th>\n",
       "    </tr>\n",
       "    <tr>\n",
       "      <th>시군구</th>\n",
       "      <th></th>\n",
       "    </tr>\n",
       "  </thead>\n",
       "  <tbody>\n",
       "    <tr>\n",
       "      <th>강남구</th>\n",
       "      <td>17609</td>\n",
       "    </tr>\n",
       "    <tr>\n",
       "      <th>강동구</th>\n",
       "      <td>10734</td>\n",
       "    </tr>\n",
       "    <tr>\n",
       "      <th>강북구</th>\n",
       "      <td>5240</td>\n",
       "    </tr>\n",
       "    <tr>\n",
       "      <th>강서구</th>\n",
       "      <td>14167</td>\n",
       "    </tr>\n",
       "    <tr>\n",
       "      <th>관악구</th>\n",
       "      <td>8850</td>\n",
       "    </tr>\n",
       "    <tr>\n",
       "      <th>광진구</th>\n",
       "      <td>7308</td>\n",
       "    </tr>\n",
       "    <tr>\n",
       "      <th>구로구</th>\n",
       "      <td>9037</td>\n",
       "    </tr>\n",
       "    <tr>\n",
       "      <th>금천구</th>\n",
       "      <td>3881</td>\n",
       "    </tr>\n",
       "    <tr>\n",
       "      <th>노원구</th>\n",
       "      <td>19146</td>\n",
       "    </tr>\n",
       "    <tr>\n",
       "      <th>도봉구</th>\n",
       "      <td>6342</td>\n",
       "    </tr>\n",
       "    <tr>\n",
       "      <th>동대문구</th>\n",
       "      <td>6653</td>\n",
       "    </tr>\n",
       "    <tr>\n",
       "      <th>동작구</th>\n",
       "      <td>5762</td>\n",
       "    </tr>\n",
       "    <tr>\n",
       "      <th>마포구</th>\n",
       "      <td>5861</td>\n",
       "    </tr>\n",
       "    <tr>\n",
       "      <th>서대문구</th>\n",
       "      <td>4912</td>\n",
       "    </tr>\n",
       "    <tr>\n",
       "      <th>서초구</th>\n",
       "      <td>9542</td>\n",
       "    </tr>\n",
       "    <tr>\n",
       "      <th>성동구</th>\n",
       "      <td>4040</td>\n",
       "    </tr>\n",
       "    <tr>\n",
       "      <th>성북구</th>\n",
       "      <td>8013</td>\n",
       "    </tr>\n",
       "    <tr>\n",
       "      <th>송파구</th>\n",
       "      <td>14186</td>\n",
       "    </tr>\n",
       "    <tr>\n",
       "      <th>양천구</th>\n",
       "      <td>12085</td>\n",
       "    </tr>\n",
       "    <tr>\n",
       "      <th>영등포구</th>\n",
       "      <td>5678</td>\n",
       "    </tr>\n",
       "    <tr>\n",
       "      <th>용산구</th>\n",
       "      <td>5028</td>\n",
       "    </tr>\n",
       "    <tr>\n",
       "      <th>은평구</th>\n",
       "      <td>12213</td>\n",
       "    </tr>\n",
       "    <tr>\n",
       "      <th>종로구</th>\n",
       "      <td>8051</td>\n",
       "    </tr>\n",
       "    <tr>\n",
       "      <th>중구</th>\n",
       "      <td>6190</td>\n",
       "    </tr>\n",
       "    <tr>\n",
       "      <th>중랑구</th>\n",
       "      <td>5893</td>\n",
       "    </tr>\n",
       "  </tbody>\n",
       "</table>\n",
       "</div>"
      ],
      "text/plain": [
       "      대상 학생 수\n",
       "시군구          \n",
       "강남구     17609\n",
       "강동구     10734\n",
       "강북구      5240\n",
       "강서구     14167\n",
       "관악구      8850\n",
       "광진구      7308\n",
       "구로구      9037\n",
       "금천구      3881\n",
       "노원구     19146\n",
       "도봉구      6342\n",
       "동대문구     6653\n",
       "동작구      5762\n",
       "마포구      5861\n",
       "서대문구     4912\n",
       "서초구      9542\n",
       "성동구      4040\n",
       "성북구      8013\n",
       "송파구     14186\n",
       "양천구     12085\n",
       "영등포구     5678\n",
       "용산구      5028\n",
       "은평구     12213\n",
       "종로구      8051\n",
       "중구       6190\n",
       "중랑구      5893"
      ]
     },
     "execution_count": 95,
     "metadata": {},
     "output_type": "execute_result"
    }
   ],
   "source": [
    "# 구별 학생 수 합계 계산\n",
    "students_count_by_gu = school_original_data.groupby('시군구').sum()\n",
    "students_count_by_gu.drop('피해 응답 학생 수', axis=1, inplace=True)\n",
    "students_count_by_gu"
   ]
  },
  {
   "cell_type": "code",
   "execution_count": 96,
   "id": "12aadf87-355a-49be-b47c-e43275da2e8b",
   "metadata": {
    "execution": {
     "iopub.execute_input": "2023-01-25T07:07:25.970584Z",
     "iopub.status.busy": "2023-01-25T07:07:25.970584Z",
     "iopub.status.idle": "2023-01-25T07:07:25.992532Z",
     "shell.execute_reply": "2023-01-25T07:07:25.991527Z",
     "shell.execute_reply.started": "2023-01-25T07:07:25.970584Z"
    }
   },
   "outputs": [],
   "source": [
    "students_count_by_gu.to_csv('D:\\MultiCampus\\DATAexam\\융복합\\폭력분석\\data\\서울시_구별_학생수.csv', encoding='utf-8-sig')"
   ]
  },
  {
   "cell_type": "code",
   "execution_count": null,
   "id": "9edeb61c-665c-49e9-aecb-641b61a96419",
   "metadata": {},
   "outputs": [],
   "source": []
  },
  {
   "cell_type": "code",
   "execution_count": null,
   "id": "1c72320d-3326-4e0a-9587-0d9d616cb7e3",
   "metadata": {},
   "outputs": [],
   "source": []
  }
 ],
 "metadata": {
  "kernelspec": {
   "display_name": "eduvenv",
   "language": "python",
   "name": "eduvenv"
  },
  "language_info": {
   "codemirror_mode": {
    "name": "ipython",
    "version": 3
   },
   "file_extension": ".py",
   "mimetype": "text/x-python",
   "name": "python",
   "nbconvert_exporter": "python",
   "pygments_lexer": "ipython3",
   "version": "3.9.15"
  }
 },
 "nbformat": 4,
 "nbformat_minor": 5
}

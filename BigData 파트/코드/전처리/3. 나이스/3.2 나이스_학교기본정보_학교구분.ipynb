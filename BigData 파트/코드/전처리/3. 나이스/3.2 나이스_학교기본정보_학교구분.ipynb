{
 "cells": [
  {
   "cell_type": "markdown",
   "id": "94e4ef18-b4d5-410f-828c-05b8ec0f0d60",
   "metadata": {},
   "source": [
    "# 남녀공학구분명, 고등학교구분명, 고등학교일반실업구분명"
   ]
  },
  {
   "cell_type": "markdown",
   "id": "cc4dd592-4aa8-4d12-b8c3-43fdb96d36b2",
   "metadata": {},
   "source": [
    "## 남녀공학구분명"
   ]
  },
  {
   "cell_type": "code",
   "execution_count": null,
   "id": "38d46023-ffb1-4626-9d53-a6736f49850b",
   "metadata": {},
   "outputs": [],
   "source": [
    "import pandas as pd\n",
    "import numpy as np\n",
    "from functools import reduce"
   ]
  },
  {
   "cell_type": "code",
   "execution_count": null,
   "id": "5cbaf381-b593-4a2f-9503-b997360368f0",
   "metadata": {},
   "outputs": [],
   "source": [
    "# 13. 나이스_학교정보 데이터 불러오기(남녀공학구분명, 고등학교구분명, 고등학교일반실업구분명)\n",
    "school_df = pd.read_csv(\"C:\\sooeun\\DATAexam\\ConvergenceProject-School_Violence\\Data\\나이스_서울_전체_위경도_학교기본정보.csv\",index_col = 0)\n",
    "school_df = school_df[['시군구','남녀공학구분명','고등학교구분명','고등학교일반실업구분명']]\n",
    "school_df.dtypes"
   ]
  },
  {
   "cell_type": "code",
   "execution_count": null,
   "id": "9167786b-00d4-400e-96ff-7d6fe3d98ec1",
   "metadata": {},
   "outputs": [],
   "source": [
    "school_df[\"남녀공학구분명\"].value_counts()"
   ]
  },
  {
   "cell_type": "code",
   "execution_count": null,
   "id": "cd66583a-1c0e-4bd5-bb38-b6ae27442683",
   "metadata": {},
   "outputs": [],
   "source": [
    "school_df = school_df.groupby(\"남녀공학구분명\")[\"시군구\"].value_counts().to_frame()\n",
    "school_df = school_df.rename(columns={\"시군구\":\"수\"})\n",
    "school_df = school_df.reset_index()\n",
    "school_df_man = school_df.iloc[0:24]\n",
    "school_df_sum = school_df.iloc[24:49]\n",
    "school_df_wo = school_df.iloc[49:74]"
   ]
  },
  {
   "cell_type": "code",
   "execution_count": null,
   "id": "205a01c1-c110-4730-aeb4-5d92d4527fb1",
   "metadata": {},
   "outputs": [],
   "source": [
    "school_df_man = school_df_man.rename(columns={\"수\":\"남고\"})\n",
    "school_df_sum = school_df_sum.rename(columns={\"수\":\"남녀공학\"})\n",
    "school_df_wo = school_df_wo.rename(columns={\"수\":\"여고\"})\n",
    "man_wo = pd.merge(school_df_man, school_df_sum, on=['시군구'], how='outer', sort=True)\n",
    "man_wo_2 = pd.merge(man_wo, school_df_wo, on=['시군구'], how='outer', sort=True)\n",
    "man_wo_2 = man_wo_2[['시군구','남고','남녀공학','여고']]\n",
    "man_wo_2 = man_wo_2.fillna(0)\n",
    "man_wo_2 = man_wo_2.astype({'남고':int,'남녀공학':int,'여고':int})\n",
    "man_wo_2"
   ]
  },
  {
   "cell_type": "code",
   "execution_count": null,
   "id": "bdbc3ab3-3a12-4224-a909-b143605ce430",
   "metadata": {},
   "outputs": [],
   "source": [
    "# 저장 후 주석처리 \n",
    "# man_wo_2.to_csv(\"C:\\sooeun\\DATAexam\\ConvergenceProject-School_Violence\\Data\\서울특별시_남녀공학구분명.csv\", index=False)"
   ]
  },
  {
   "cell_type": "markdown",
   "id": "2d998e51-8d7c-4101-8a02-fbac73ae833b",
   "metadata": {},
   "source": [
    "## 고등학교구분명"
   ]
  },
  {
   "cell_type": "code",
   "execution_count": null,
   "id": "21578d88-96f7-40d8-96c0-90e588c6e904",
   "metadata": {},
   "outputs": [],
   "source": [
    "# 14. 나이스_학교정보 데이터 불러오기(남녀공학구분명, 고등학교구분명, 고등학교일반실업구분명)\n",
    "school_df = pd.read_csv(\"C:\\sooeun\\DATAexam\\ConvergenceProject-School_Violence\\Data\\나이스_서울_전체_위경도_학교기본정보.csv\",index_col = 0)\n",
    "school_df = school_df[['시군구','고등학교구분명']]\n",
    "school_df"
   ]
  },
  {
   "cell_type": "code",
   "execution_count": null,
   "id": "5f05b8ec-aa86-4c0a-95ca-1a488c362fc1",
   "metadata": {},
   "outputs": [],
   "source": [
    "school_df[\"고등학교구분명\"].value_counts()"
   ]
  },
  {
   "cell_type": "code",
   "execution_count": null,
   "id": "d2b74068-c15c-47fc-bcf5-e41d20b00ac0",
   "metadata": {},
   "outputs": [],
   "source": [
    "school_df = school_df.groupby(\"고등학교구분명\")[\"시군구\"].value_counts().to_frame()\n",
    "school_df= school_df.rename(columns={\"시군구\":\"수\"})\n",
    "school_df = school_df.reset_index()\n",
    "school_df_1 = school_df.iloc[0:25]\n",
    "school_df_2 = school_df.iloc[25:48]\n",
    "school_df_3 = school_df.iloc[48:61]\n",
    "school_df_4 = school_df.iloc[61:84]"
   ]
  },
  {
   "cell_type": "code",
   "execution_count": null,
   "id": "06b2a033-c546-47be-a78e-44dbe6663913",
   "metadata": {},
   "outputs": [],
   "source": [
    "school_df_1 = school_df_1.rename(columns={\"수\":\"일반고\"})\n",
    "school_df_2 = school_df_2.rename(columns={\"수\":\"특성화고\"})\n",
    "school_df_3 = school_df_3.rename(columns={\"수\":\"자율고\"})\n",
    "school_df_4 = school_df_4.rename(columns={\"수\":\"특목고\"})\n",
    "data1 = pd.merge(school_df_1, school_df_2, on=['시군구'], how='outer', sort=True)\n",
    "data2 = pd.merge(data1, school_df_3, on=['시군구'], how='outer', sort=True)\n",
    "data3 = pd.merge(data2, school_df_4, on=['시군구'], how='outer', sort=True)\n",
    "data3"
   ]
  },
  {
   "cell_type": "code",
   "execution_count": null,
   "id": "13ad3126-4d77-47c7-9ef0-bd2d3aa8881c",
   "metadata": {},
   "outputs": [],
   "source": [
    "data3 = data3[['시군구','일반고','특성화고','자율고','특목고']]\n",
    "data3 = data3.fillna(0)\n",
    "data3 = data3.astype({'일반고':int,'특성화고':int,'자율고':int,'특목고':int})\n",
    "data3"
   ]
  },
  {
   "cell_type": "code",
   "execution_count": null,
   "id": "2fcbba88-1335-429d-b9d3-d51882aab52d",
   "metadata": {},
   "outputs": [],
   "source": [
    "# 저장 후 주석처리 \n",
    "# data3.to_csv(\"C:\\sooeun\\DATAexam\\ConvergenceProject-School_Violence\\Data\\서울특별시_고등학교구분명.csv\", index=False)"
   ]
  },
  {
   "cell_type": "markdown",
   "id": "0e983ab8-c0f0-412c-bb19-e56cfe6a672d",
   "metadata": {},
   "source": [
    "## 고등학교일반실업구분명"
   ]
  },
  {
   "cell_type": "code",
   "execution_count": null,
   "id": "01501b90-d462-4f65-a2d5-72dd371061f5",
   "metadata": {},
   "outputs": [],
   "source": [
    "# 15. 나이스_학교정보 데이터 불러오기(남녀공학구분명, 고등학교구분명, 고등학교일반실업구분명)\n",
    "school_df = pd.read_csv(\"C:\\sooeun\\DATAexam\\ConvergenceProject-School_Violence\\Data\\나이스_서울_전체_위경도_학교기본정보.csv\",index_col = 0)\n",
    "school_df = school_df[['시군구','고등학교일반실업구분명']]\n",
    "school_df"
   ]
  },
  {
   "cell_type": "code",
   "execution_count": null,
   "id": "251176a7-d96a-4085-b27a-db6c88c6b851",
   "metadata": {},
   "outputs": [],
   "source": [
    "school_df[\"고등학교일반실업구분명\"].value_counts()"
   ]
  },
  {
   "cell_type": "code",
   "execution_count": null,
   "id": "09452b28-fa19-4f13-8089-5cfc0258e5f2",
   "metadata": {},
   "outputs": [],
   "source": [
    "school_df = school_df.groupby(\"고등학교일반실업구분명\")[\"시군구\"].value_counts().to_frame()\n",
    "school_df= school_df.rename(columns={\"시군구\":\"수\"})\n",
    "school_df = school_df.reset_index()\n",
    "school_df_1 = school_df.iloc[0:25]\n",
    "school_df_2 = school_df.iloc[25:50]"
   ]
  },
  {
   "cell_type": "code",
   "execution_count": null,
   "id": "4793b444-6e56-4ce1-96fb-e15ba8713de6",
   "metadata": {},
   "outputs": [],
   "source": [
    "school_df_1 = school_df_1.rename(columns={\"수\":\"일반계\"})\n",
    "school_df_2 = school_df_2.rename(columns={\"수\":\"전문계\"})\n",
    "data1 = pd.merge(school_df_1, school_df_2, on=['시군구'], how='outer', sort=True)\n",
    "data1"
   ]
  },
  {
   "cell_type": "code",
   "execution_count": null,
   "id": "2ee72281-547e-4d44-86e9-4051af84c3f2",
   "metadata": {},
   "outputs": [],
   "source": [
    "data1 = data1[['시군구','일반계','전문계']]\n",
    "data1 = data1.fillna(0)\n",
    "data1 = data1.astype({'일반계':int,'전문계':int})\n",
    "data1"
   ]
  },
  {
   "cell_type": "code",
   "execution_count": null,
   "id": "8381f181-a571-4c47-a559-6560d734ae88",
   "metadata": {},
   "outputs": [],
   "source": [
    "# 저장 후 주석처리 \n",
    "# data1.to_csv(\"C:\\sooeun\\DATAexam\\ConvergenceProject-School_Violence\\Data\\서울특별시_고등학교일반실업구분명.csv\", index=False)"
   ]
  }
 ],
 "metadata": {
  "kernelspec": {
   "display_name": "Python 3 (ipykernel)",
   "language": "python",
   "name": "python3"
  },
  "language_info": {
   "codemirror_mode": {
    "name": "ipython",
    "version": 3
   },
   "file_extension": ".py",
   "mimetype": "text/x-python",
   "name": "python",
   "nbconvert_exporter": "python",
   "pygments_lexer": "ipython3",
   "version": "3.9.15"
  }
 },
 "nbformat": 4,
 "nbformat_minor": 5
}

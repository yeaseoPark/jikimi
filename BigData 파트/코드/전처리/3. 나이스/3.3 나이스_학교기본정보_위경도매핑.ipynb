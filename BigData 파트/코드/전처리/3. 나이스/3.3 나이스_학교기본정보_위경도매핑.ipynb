{
 "cells": [
  {
   "cell_type": "markdown",
   "id": "4cd65d25-553a-4d86-9b06-29bd34bcfef0",
   "metadata": {},
   "source": [
    "# 나이스 학교 도로명주소 -> 위경도매핑 (Kakao API)\n",
    "- Kakao map API를 이용하여 도로명주소 위경도 직접 매핑"
   ]
  },
  {
   "cell_type": "code",
   "execution_count": 25,
   "id": "559d38a6-a3af-4674-b0b9-5addab6f24a3",
   "metadata": {
    "execution": {
     "iopub.execute_input": "2023-01-25T01:15:45.230984Z",
     "iopub.status.busy": "2023-01-25T01:15:45.230984Z",
     "iopub.status.idle": "2023-01-25T01:15:45.355676Z",
     "shell.execute_reply": "2023-01-25T01:15:45.355676Z",
     "shell.execute_reply.started": "2023-01-25T01:15:45.230984Z"
    },
    "tags": []
   },
   "outputs": [],
   "source": [
    "import pandas as pd\n",
    "import numpy as np\n",
    "import requests, json"
   ]
  },
  {
   "cell_type": "code",
   "execution_count": 13,
   "id": "76b7eb8a-2ae9-4817-aa5b-bd995c6411b3",
   "metadata": {
    "execution": {
     "iopub.execute_input": "2023-01-25T01:04:50.326367Z",
     "iopub.status.busy": "2023-01-25T01:04:50.326367Z",
     "iopub.status.idle": "2023-01-25T01:04:50.348581Z",
     "shell.execute_reply": "2023-01-25T01:04:50.348581Z",
     "shell.execute_reply.started": "2023-01-25T01:04:50.326367Z"
    },
    "tags": []
   },
   "outputs": [
    {
     "data": {
      "text/plain": [
       "Index(['시도교육청코드', '시도교육청명', '표준학교코드', '학교명', '영문학교명', '학교종류명', '소재지명', '시군구',\n",
       "       '관할조직명', '설립명', '도로명우편번호', '도로명주소', '도로명상세주소', '전화번호', '홈페이지주소',\n",
       "       '남녀공학구분명', '팩스번호', '고등학교구분명', '산업체특별학급존재여부', '고등학교일반실업구분명',\n",
       "       '특수목적고등학교계열명', '입시전후기구분명', '주야구분명', '설립일자', '개교기념일', '수정일'],\n",
       "      dtype='object')"
      ]
     },
     "execution_count": 13,
     "metadata": {},
     "output_type": "execute_result"
    }
   ],
   "source": [
    "data = pd.read_csv(\"D:\\MultiCampus\\DATAexam\\융복합\\폭력분석\\data\\나이스_서울_전체_학교기본정보.csv\", index_col = 0)\n",
    "data.columns"
   ]
  },
  {
   "cell_type": "code",
   "execution_count": 26,
   "id": "f494be4e-31cb-45a6-9e21-d39ffe0215f6",
   "metadata": {
    "execution": {
     "iopub.execute_input": "2023-01-25T01:15:47.268221Z",
     "iopub.status.busy": "2023-01-25T01:15:47.268221Z",
     "iopub.status.idle": "2023-01-25T01:15:47.282326Z",
     "shell.execute_reply": "2023-01-25T01:15:47.281283Z",
     "shell.execute_reply.started": "2023-01-25T01:15:47.268221Z"
    },
    "tags": []
   },
   "outputs": [],
   "source": [
    "# 카카오API를 사용하여 주소->좌표 변환\n",
    "def get_location(address):\n",
    "    url = 'https://dapi.kakao.com/v2/local/search/address.json?query=' + address\n",
    "    headers = {\"Authorization\": \"KakaoAK 7924f89c7d68dc7cfd158550d96fd730\"}\n",
    "    api_json = json.loads(str(requests.get(url,headers=headers).text))\n",
    "    address = api_json['documents'][0]['address']\n",
    "    crd = {\"lat\": str(address['y']), \"lng\": str(address['x'])}\n",
    "    address_name = address['address_name']\n",
    "\n",
    "    return crd"
   ]
  },
  {
   "cell_type": "code",
   "execution_count": 48,
   "id": "863b4eae-f6d0-4ea8-82ef-c070cd9c678b",
   "metadata": {
    "execution": {
     "iopub.execute_input": "2023-01-25T01:25:29.257635Z",
     "iopub.status.busy": "2023-01-25T01:25:29.257635Z",
     "iopub.status.idle": "2023-01-25T01:26:13.418347Z",
     "shell.execute_reply": "2023-01-25T01:26:13.417347Z",
     "shell.execute_reply.started": "2023-01-25T01:25:29.257635Z"
    },
    "tags": []
   },
   "outputs": [],
   "source": [
    "#####주소를 위,경도 값으로 변환하기 #####\n",
    "latitude, longitude = [], []\n",
    "\n",
    "# address = data['도로명주소']\n",
    "for index, row in data.iterrows():\n",
    "    address = row['도로명주소']\n",
    "    try:\n",
    "        latitude.append(get_location(row['도로명주소'])['lat'])\n",
    "        longitude.append(get_location(row['도로명주소'])['lng'])\n",
    "    except:\n",
    "        latitude.append(np.nan)\n",
    "        longitude.append(np.nan)"
   ]
  },
  {
   "cell_type": "code",
   "execution_count": 65,
   "id": "bfae3d41-9bf0-4a13-bc83-187cf6c753da",
   "metadata": {
    "execution": {
     "iopub.execute_input": "2023-01-25T01:32:58.613587Z",
     "iopub.status.busy": "2023-01-25T01:32:58.613587Z",
     "iopub.status.idle": "2023-01-25T01:32:58.647772Z",
     "shell.execute_reply": "2023-01-25T01:32:58.646775Z",
     "shell.execute_reply.started": "2023-01-25T01:32:58.613587Z"
    },
    "tags": []
   },
   "outputs": [
    {
     "data": {
      "text/html": [
       "<div>\n",
       "<style scoped>\n",
       "    .dataframe tbody tr th:only-of-type {\n",
       "        vertical-align: middle;\n",
       "    }\n",
       "\n",
       "    .dataframe tbody tr th {\n",
       "        vertical-align: top;\n",
       "    }\n",
       "\n",
       "    .dataframe thead th {\n",
       "        text-align: right;\n",
       "    }\n",
       "</style>\n",
       "<table border=\"1\" class=\"dataframe\">\n",
       "  <thead>\n",
       "    <tr style=\"text-align: right;\">\n",
       "      <th></th>\n",
       "      <th>시도교육청코드</th>\n",
       "      <th>시도교육청명</th>\n",
       "      <th>표준학교코드</th>\n",
       "      <th>학교명</th>\n",
       "      <th>영문학교명</th>\n",
       "      <th>학교종류명</th>\n",
       "      <th>소재지명</th>\n",
       "      <th>시군구</th>\n",
       "      <th>관할조직명</th>\n",
       "      <th>설립명</th>\n",
       "      <th>...</th>\n",
       "      <th>산업체특별학급존재여부</th>\n",
       "      <th>고등학교일반실업구분명</th>\n",
       "      <th>특수목적고등학교계열명</th>\n",
       "      <th>입시전후기구분명</th>\n",
       "      <th>주야구분명</th>\n",
       "      <th>설립일자</th>\n",
       "      <th>개교기념일</th>\n",
       "      <th>수정일</th>\n",
       "      <th>위도</th>\n",
       "      <th>경도</th>\n",
       "    </tr>\n",
       "  </thead>\n",
       "  <tbody>\n",
       "    <tr>\n",
       "      <th>89</th>\n",
       "      <td>B10</td>\n",
       "      <td>서울특별시교육청</td>\n",
       "      <td>7010908</td>\n",
       "      <td>리라아트고등학교</td>\n",
       "      <td>Lila Art High School</td>\n",
       "      <td>고등학교</td>\n",
       "      <td>서울특별시</td>\n",
       "      <td>중구</td>\n",
       "      <td>서울특별시교육청</td>\n",
       "      <td>사립</td>\n",
       "      <td>...</td>\n",
       "      <td>N</td>\n",
       "      <td>전문계</td>\n",
       "      <td>NaN</td>\n",
       "      <td>전기</td>\n",
       "      <td>주간</td>\n",
       "      <td>19520520</td>\n",
       "      <td>19520520</td>\n",
       "      <td>20230115</td>\n",
       "      <td>NaN</td>\n",
       "      <td>NaN</td>\n",
       "    </tr>\n",
       "    <tr>\n",
       "      <th>249</th>\n",
       "      <td>B10</td>\n",
       "      <td>서울특별시교육청</td>\n",
       "      <td>7010227</td>\n",
       "      <td>이화여자고등학교</td>\n",
       "      <td>Ewha Girls’ High School</td>\n",
       "      <td>고등학교</td>\n",
       "      <td>서울특별시</td>\n",
       "      <td>중구</td>\n",
       "      <td>서울특별시교육청</td>\n",
       "      <td>사립</td>\n",
       "      <td>...</td>\n",
       "      <td>N</td>\n",
       "      <td>일반계</td>\n",
       "      <td>NaN</td>\n",
       "      <td>전기</td>\n",
       "      <td>주간</td>\n",
       "      <td>18860531</td>\n",
       "      <td>18860531</td>\n",
       "      <td>20230115</td>\n",
       "      <td>NaN</td>\n",
       "      <td>NaN</td>\n",
       "    </tr>\n",
       "  </tbody>\n",
       "</table>\n",
       "<p>2 rows × 28 columns</p>\n",
       "</div>"
      ],
      "text/plain": [
       "    시도교육청코드    시도교육청명   표준학교코드       학교명                    영문학교명 학교종류명  \\\n",
       "89      B10  서울특별시교육청  7010908  리라아트고등학교     Lila Art High School  고등학교   \n",
       "249     B10  서울특별시교육청  7010227  이화여자고등학교  Ewha Girls’ High School  고등학교   \n",
       "\n",
       "      소재지명 시군구     관할조직명 설립명  ...  산업체특별학급존재여부 고등학교일반실업구분명 특수목적고등학교계열명  \\\n",
       "89   서울특별시  중구  서울특별시교육청  사립  ...            N         전문계         NaN   \n",
       "249  서울특별시  중구  서울특별시교육청  사립  ...            N         일반계         NaN   \n",
       "\n",
       "    입시전후기구분명 주야구분명      설립일자     개교기념일       수정일   위도   경도  \n",
       "89        전기    주간  19520520  19520520  20230115  NaN  NaN  \n",
       "249       전기    주간  18860531  18860531  20230115  NaN  NaN  \n",
       "\n",
       "[2 rows x 28 columns]"
      ]
     },
     "execution_count": 65,
     "metadata": {},
     "output_type": "execute_result"
    }
   ],
   "source": [
    "data['위도'] = latitude\n",
    "data['경도'] = longitude\n",
    "data[data['위도'].isnull()]"
   ]
  },
  {
   "cell_type": "code",
   "execution_count": 82,
   "id": "e9d1b188-04ec-4c47-b3ab-0d0cb040e25d",
   "metadata": {
    "execution": {
     "iopub.execute_input": "2023-01-25T01:41:48.221738Z",
     "iopub.status.busy": "2023-01-25T01:41:48.220727Z",
     "iopub.status.idle": "2023-01-25T01:41:48.314475Z",
     "shell.execute_reply": "2023-01-25T01:41:48.314475Z",
     "shell.execute_reply.started": "2023-01-25T01:41:48.221738Z"
    },
    "tags": []
   },
   "outputs": [
    {
     "name": "stdout",
     "output_type": "stream",
     "text": [
      "서울특별시 중구 소파로2길 \n",
      "37.557131 126.988243\n",
      "서울특별시 중구 정동길\n",
      "37.565689 126.971218\n"
     ]
    },
    {
     "name": "stderr",
     "output_type": "stream",
     "text": [
      "C:\\Users\\sunfo\\AppData\\Local\\Temp\\ipykernel_18616\\721136178.py:3: SettingWithCopyWarning: \n",
      "A value is trying to be set on a copy of a slice from a DataFrame\n",
      "\n",
      "See the caveats in the documentation: https://pandas.pydata.org/pandas-docs/stable/user_guide/indexing.html#returning-a-view-versus-a-copy\n",
      "  data['위도'].iloc[89] = 37.557131\n",
      "C:\\Users\\sunfo\\AppData\\Local\\Temp\\ipykernel_18616\\721136178.py:4: SettingWithCopyWarning: \n",
      "A value is trying to be set on a copy of a slice from a DataFrame\n",
      "\n",
      "See the caveats in the documentation: https://pandas.pydata.org/pandas-docs/stable/user_guide/indexing.html#returning-a-view-versus-a-copy\n",
      "  data['경도'].iloc[89] = 126.988243\n",
      "C:\\Users\\sunfo\\AppData\\Local\\Temp\\ipykernel_18616\\721136178.py:8: SettingWithCopyWarning: \n",
      "A value is trying to be set on a copy of a slice from a DataFrame\n",
      "\n",
      "See the caveats in the documentation: https://pandas.pydata.org/pandas-docs/stable/user_guide/indexing.html#returning-a-view-versus-a-copy\n",
      "  data['위도'].iloc[249] = 37.565689\n",
      "C:\\Users\\sunfo\\AppData\\Local\\Temp\\ipykernel_18616\\721136178.py:9: SettingWithCopyWarning: \n",
      "A value is trying to be set on a copy of a slice from a DataFrame\n",
      "\n",
      "See the caveats in the documentation: https://pandas.pydata.org/pandas-docs/stable/user_guide/indexing.html#returning-a-view-versus-a-copy\n",
      "  data['경도'].iloc[249] = 126.971218\n"
     ]
    }
   ],
   "source": [
    "# 결측치 2건에 대해 수작업 처리\n",
    "print(data.iloc[89]['도로명주소'])\n",
    "data['위도'].iloc[89] = 37.557131\n",
    "data['경도'].iloc[89] = 126.988243\n",
    "print(data.iloc[89]['위도'], data.iloc[89]['경도'])\n",
    "\n",
    "print(data.iloc[249]['도로명주소'])\n",
    "data['위도'].iloc[249] = 37.565689\n",
    "data['경도'].iloc[249] = 126.971218\n",
    "print(data.iloc[249]['위도'], data.iloc[249]['경도'])\n"
   ]
  },
  {
   "cell_type": "code",
   "execution_count": 86,
   "id": "734e3f47-6834-4f5d-b2d3-d0677f709e60",
   "metadata": {
    "execution": {
     "iopub.execute_input": "2023-01-25T01:45:09.484959Z",
     "iopub.status.busy": "2023-01-25T01:45:09.484959Z",
     "iopub.status.idle": "2023-01-25T01:45:09.518543Z",
     "shell.execute_reply": "2023-01-25T01:45:09.517564Z",
     "shell.execute_reply.started": "2023-01-25T01:45:09.484959Z"
    },
    "tags": []
   },
   "outputs": [],
   "source": [
    "data.to_csv('D:/MultiCampus/DATAexam/융복합/폭력분석/data/나이스_서울_전체_위경도_학교기본정보_Ver2.csv', encoding='utf-8-sig')"
   ]
  }
 ],
 "metadata": {
  "kernelspec": {
   "display_name": "eduvenv",
   "language": "python",
   "name": "eduvenv"
  },
  "language_info": {
   "codemirror_mode": {
    "name": "ipython",
    "version": 3
   },
   "file_extension": ".py",
   "mimetype": "text/x-python",
   "name": "python",
   "nbconvert_exporter": "python",
   "pygments_lexer": "ipython3",
   "version": "3.9.15"
  }
 },
 "nbformat": 4,
 "nbformat_minor": 5
}

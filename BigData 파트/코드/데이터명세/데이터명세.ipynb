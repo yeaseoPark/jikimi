{
 "cells": [
  {
   "cell_type": "markdown",
   "id": "48dffb87-0f35-49aa-b2cd-4651fd6c7ce4",
   "metadata": {},
   "source": [
    "# 데이터 명세"
   ]
  },
  {
   "cell_type": "code",
   "execution_count": 1,
   "id": "4a21a5aa-d591-463b-8320-f8c747ca514c",
   "metadata": {
    "execution": {
     "iopub.execute_input": "2023-02-09T06:27:17.034707Z",
     "iopub.status.busy": "2023-02-09T06:27:17.033234Z",
     "iopub.status.idle": "2023-02-09T06:27:18.202881Z",
     "shell.execute_reply": "2023-02-09T06:27:18.199383Z",
     "shell.execute_reply.started": "2023-02-09T06:27:17.034707Z"
    }
   },
   "outputs": [],
   "source": [
    "import pandas as pd\n",
    "import numpy as np"
   ]
  },
  {
   "cell_type": "code",
   "execution_count": 6,
   "id": "a898f082-ff0b-4b51-b02b-05ce72c525e4",
   "metadata": {
    "execution": {
     "iopub.execute_input": "2023-02-09T06:28:07.160465Z",
     "iopub.status.busy": "2023-02-09T06:28:07.160465Z",
     "iopub.status.idle": "2023-02-09T06:28:07.176912Z",
     "shell.execute_reply": "2023-02-09T06:28:07.174917Z",
     "shell.execute_reply.started": "2023-02-09T06:28:07.160465Z"
    },
    "tags": []
   },
   "outputs": [],
   "source": [
    "data_path = \"C:/sooeun/DATAexam/ConvergenceProject-School_Violence/Data_Specification/\""
   ]
  },
  {
   "cell_type": "markdown",
   "id": "9f7ab036-1053-48d4-9360-87c23a46594b",
   "metadata": {},
   "source": [
    "# 서울열린데이터광장 "
   ]
  },
  {
   "cell_type": "markdown",
   "id": "f6471ccf-8088-4779-be39-c2acd696985d",
   "metadata": {},
   "source": [
    "## 1. 서울시 저소득 한부모 가족(29 rows × 15 columns)\n",
    "### 저소득 한부모 가족의 현황을 제공하는 일반통계"
   ]
  },
  {
   "cell_type": "code",
   "execution_count": 9,
   "id": "5ed86c46-d6ee-488d-857e-74a057f26c10",
   "metadata": {
    "execution": {
     "iopub.execute_input": "2023-02-09T06:28:36.165395Z",
     "iopub.status.busy": "2023-02-09T06:28:36.165395Z",
     "iopub.status.idle": "2023-02-09T06:28:36.195637Z",
     "shell.execute_reply": "2023-02-09T06:28:36.194629Z",
     "shell.execute_reply.started": "2023-02-09T06:28:36.165395Z"
    },
    "tags": []
   },
   "outputs": [
    {
     "data": {
      "text/plain": [
       "(29, 15)"
      ]
     },
     "execution_count": 9,
     "metadata": {},
     "output_type": "execute_result"
    }
   ],
   "source": [
    "data1 = pd.read_csv(data_path + \"1. 서울열린데이터광장_서울시저소득한부모가족.csv\")\n",
    "data1.shape"
   ]
  },
  {
   "cell_type": "markdown",
   "id": "f410be94-c4de-47fd-b0c8-611fe945f94e",
   "metadata": {},
   "source": [
    "## 2. 서울시 소득인식 수준(240 rows × 5 columns)\n",
    "### 서울시민의 가구주가 인식하는 주관적 소득수준 정도"
   ]
  },
  {
   "cell_type": "code",
   "execution_count": 12,
   "id": "64968311-9dab-45f9-a249-6e5e96d88d29",
   "metadata": {
    "execution": {
     "iopub.execute_input": "2023-02-09T06:35:13.311876Z",
     "iopub.status.busy": "2023-02-09T06:35:13.310879Z",
     "iopub.status.idle": "2023-02-09T06:35:13.336397Z",
     "shell.execute_reply": "2023-02-09T06:35:13.335399Z",
     "shell.execute_reply.started": "2023-02-09T06:35:13.311876Z"
    }
   },
   "outputs": [
    {
     "data": {
      "text/plain": [
       "(240, 5)"
      ]
     },
     "execution_count": 12,
     "metadata": {},
     "output_type": "execute_result"
    }
   ],
   "source": [
    "data2 = pd.read_csv(data_path + \"2. 서울열린데이터광장_서울시소득인식수준.csv\")\n",
    "data2.shape"
   ]
  },
  {
   "cell_type": "markdown",
   "id": "bb813061-367b-4144-b7c6-aa6cd82510c2",
   "metadata": {},
   "source": [
    "## 3. 서울시 자치구 단위 생활인구(219000 rows × 32 columns)\n",
    "### 자치구 단위 서울 생활인구 정보"
   ]
  },
  {
   "cell_type": "code",
   "execution_count": 15,
   "id": "f7ebfe87-0e71-4b9b-bb4b-67182b9b3be1",
   "metadata": {
    "execution": {
     "iopub.execute_input": "2023-02-09T06:37:22.011940Z",
     "iopub.status.busy": "2023-02-09T06:37:22.011435Z",
     "iopub.status.idle": "2023-02-09T06:37:23.731211Z",
     "shell.execute_reply": "2023-02-09T06:37:23.729702Z",
     "shell.execute_reply.started": "2023-02-09T06:37:22.011435Z"
    },
    "tags": []
   },
   "outputs": [
    {
     "data": {
      "text/plain": [
       "(219000, 32)"
      ]
     },
     "execution_count": 15,
     "metadata": {},
     "output_type": "execute_result"
    }
   ],
   "source": [
    "data3 = pd.read_csv(data_path + \"LOCAL_PEOPLE_GU_2021.csv\", encoding='cp949')\n",
    "data3.shape"
   ]
  },
  {
   "cell_type": "markdown",
   "id": "1f05f4ee-43a8-4df7-8915-3d6dfe611fc6",
   "metadata": {},
   "source": [
    "## 4. 서울시 다문화가정 현황(28 rows × 11 columns)\n",
    "### 서울시 각 자치구의 초/중/고등학교의 다문화가정 학생수 정보"
   ]
  },
  {
   "cell_type": "code",
   "execution_count": 17,
   "id": "04842959-2144-4c9b-ade2-6b6f848f4ae6",
   "metadata": {
    "execution": {
     "iopub.execute_input": "2023-02-09T06:38:46.341444Z",
     "iopub.status.busy": "2023-02-09T06:38:46.341444Z",
     "iopub.status.idle": "2023-02-09T06:38:46.366037Z",
     "shell.execute_reply": "2023-02-09T06:38:46.365073Z",
     "shell.execute_reply.started": "2023-02-09T06:38:46.341444Z"
    },
    "tags": []
   },
   "outputs": [
    {
     "data": {
      "text/plain": [
       "(28, 11)"
      ]
     },
     "execution_count": 17,
     "metadata": {},
     "output_type": "execute_result"
    }
   ],
   "source": [
    "data4 = pd.read_csv(data_path + \"4. 서울열린데이터광장_서울시다문화가정.csv\")\n",
    "data4.shape"
   ]
  },
  {
   "cell_type": "markdown",
   "id": "63c98a58-d0bc-4ebe-ba41-a8a212328c9e",
   "metadata": {},
   "source": [
    "## 5. 서울시 보통가구(3600 rows × 7 columns)\n",
    "### 서울시 보통가구의 가구수"
   ]
  },
  {
   "cell_type": "code",
   "execution_count": 18,
   "id": "561992b7-16de-46dd-b325-83318d24e967",
   "metadata": {
    "execution": {
     "iopub.execute_input": "2023-02-09T06:39:13.149965Z",
     "iopub.status.busy": "2023-02-09T06:39:13.149965Z",
     "iopub.status.idle": "2023-02-09T06:39:13.175562Z",
     "shell.execute_reply": "2023-02-09T06:39:13.173561Z",
     "shell.execute_reply.started": "2023-02-09T06:39:13.149965Z"
    }
   },
   "outputs": [
    {
     "data": {
      "text/plain": [
       "(3600, 7)"
      ]
     },
     "execution_count": 18,
     "metadata": {},
     "output_type": "execute_result"
    }
   ],
   "source": [
    "data5 = pd.read_csv(data_path + \"5. 서울열린데이터광장_서울시보통가구.csv\")\n",
    "data5.shape"
   ]
  },
  {
   "cell_type": "markdown",
   "id": "32106bd3-3deb-4ae1-a410-8114310702d7",
   "metadata": {},
   "source": [
    "## 6. 서울시 cctv 설치 현황(83734 rows × 7 columns)\n",
    "### 서울시 자치구 cctv 설치 현황 관련으로 명칭, 주소, 위도, 경도 좌표 정보 "
   ]
  },
  {
   "cell_type": "code",
   "execution_count": 20,
   "id": "69f12e82-008e-488a-b2c8-f251bf9ebbc8",
   "metadata": {
    "execution": {
     "iopub.execute_input": "2023-02-09T06:40:04.227313Z",
     "iopub.status.busy": "2023-02-09T06:40:04.226313Z",
     "iopub.status.idle": "2023-02-09T06:40:04.638794Z",
     "shell.execute_reply": "2023-02-09T06:40:04.637795Z",
     "shell.execute_reply.started": "2023-02-09T06:40:04.227313Z"
    },
    "tags": []
   },
   "outputs": [
    {
     "data": {
      "text/plain": [
       "(83734, 7)"
      ]
     },
     "execution_count": 20,
     "metadata": {},
     "output_type": "execute_result"
    }
   ],
   "source": [
    "data6 = pd.read_csv(data_path + \"6. 서울열린데이터광장_서울시CCTV 설치 현황.csv\", encoding='cp949')\n",
    "data6.shape"
   ]
  },
  {
   "cell_type": "markdown",
   "id": "81bcc2d9-b3fb-41b2-a876-d1ce55c28327",
   "metadata": {},
   "source": [
    "# 스마트치안빅데이터플랫폼"
   ]
  },
  {
   "cell_type": "markdown",
   "id": "a5597c47-b412-4f45-99ab-6191a202d7f6",
   "metadata": {},
   "source": [
    "## 7. 학교폭력(1966 rows × 43 columns)\n",
    "### 접수년월별 경찰관서별 신고성별 접수긴급유형별 사건종별 발생요일별 발생시간대 학교폭력 신고건수를 집계하여 통계자료로 제공"
   ]
  },
  {
   "cell_type": "code",
   "execution_count": 21,
   "id": "b24a7187-50d4-42a5-8de8-78ede9d29c75",
   "metadata": {
    "execution": {
     "iopub.execute_input": "2023-02-09T06:42:00.319429Z",
     "iopub.status.busy": "2023-02-09T06:42:00.318433Z",
     "iopub.status.idle": "2023-02-09T06:42:00.356308Z",
     "shell.execute_reply": "2023-02-09T06:42:00.354320Z",
     "shell.execute_reply.started": "2023-02-09T06:42:00.319429Z"
    }
   },
   "outputs": [
    {
     "data": {
      "text/plain": [
       "(1966, 43)"
      ]
     },
     "execution_count": 21,
     "metadata": {},
     "output_type": "execute_result"
    }
   ],
   "source": [
    "data7 = pd.read_csv(data_path + \"7.1 스마트치안빅데이터플랫폼_학교폭력.csv\")\n",
    "data7.shape"
   ]
  },
  {
   "cell_type": "markdown",
   "id": "7c34c967-f1da-43b4-b89f-3a1675e92e4a",
   "metadata": {},
   "source": [
    "## 8. 청소년비행/학교폭력 영향(247 rows × 14 columns) \n",
    "### 쇠퇴 및 범죄 유발 지역과 청소년비행학교폭력 연관 영향요인 데이터"
   ]
  },
  {
   "cell_type": "code",
   "execution_count": 22,
   "id": "3e0b1f2d-eb50-4d87-b7dc-52051f8d3921",
   "metadata": {
    "execution": {
     "iopub.execute_input": "2023-02-09T06:42:24.134627Z",
     "iopub.status.busy": "2023-02-09T06:42:24.134627Z",
     "iopub.status.idle": "2023-02-09T06:42:24.161487Z",
     "shell.execute_reply": "2023-02-09T06:42:24.160018Z",
     "shell.execute_reply.started": "2023-02-09T06:42:24.134627Z"
    }
   },
   "outputs": [
    {
     "data": {
      "text/plain": [
       "(247, 14)"
      ]
     },
     "execution_count": 22,
     "metadata": {},
     "output_type": "execute_result"
    }
   ],
   "source": [
    "data8 = pd.read_csv(data_path + \"8.1 스마트치안빅데이터플랫폼_청소년비행학교폭력영향.csv\")\n",
    "data8.shape"
   ]
  },
  {
   "cell_type": "markdown",
   "id": "26fe591b-8862-441b-b0fa-a9c7d45ddf1d",
   "metadata": {},
   "source": [
    "## 9. 112신고 영향요소 융합(273 rows × 28 columns) \n",
    "### 경찰관서(관할지역)별, 신고성별, 연령대, 발생요일 경찰서비스 종합112신고, 관할지역소득수준, 상주인구 데이터 통계자료 제공"
   ]
  },
  {
   "cell_type": "code",
   "execution_count": 23,
   "id": "47128420-c143-46bb-95d3-c5c3f515921e",
   "metadata": {
    "execution": {
     "iopub.execute_input": "2023-02-09T06:42:46.961279Z",
     "iopub.status.busy": "2023-02-09T06:42:46.960276Z",
     "iopub.status.idle": "2023-02-09T06:42:46.985554Z",
     "shell.execute_reply": "2023-02-09T06:42:46.983524Z",
     "shell.execute_reply.started": "2023-02-09T06:42:46.961279Z"
    }
   },
   "outputs": [
    {
     "data": {
      "text/plain": [
       "(273, 28)"
      ]
     },
     "execution_count": 23,
     "metadata": {},
     "output_type": "execute_result"
    }
   ],
   "source": [
    "data9 = pd.read_csv(data_path + \"9.1 스마트치안빅데이터플랫폼_112신고영향요소융합.csv\")\n",
    "data9.shape"
   ]
  },
  {
   "cell_type": "markdown",
   "id": "e24c840f-1d06-4b35-b3c1-08e5a1d2cb6d",
   "metadata": {},
   "source": [
    "# 공공데이터포털"
   ]
  },
  {
   "cell_type": "markdown",
   "id": "d89202b6-6c0a-4aa9-afab-b8896a7a40bd",
   "metadata": {
    "execution": {
     "iopub.execute_input": "2023-02-09T06:33:45.407179Z",
     "iopub.status.busy": "2023-02-09T06:33:45.407179Z",
     "iopub.status.idle": "2023-02-09T06:33:45.417873Z",
     "shell.execute_reply": "2023-02-09T06:33:45.416878Z",
     "shell.execute_reply.started": "2023-02-09T06:33:45.407179Z"
    }
   },
   "source": [
    "## 10. 경찰관서 위치 주소 현황(2037 rows × 8 columns)\n",
    "### 지역경찰청별 소속관서 표시, 지방청, 경찰서, 관서명, 지구대, 파출소, 주소 정보 제공"
   ]
  },
  {
   "cell_type": "code",
   "execution_count": 25,
   "id": "56831a88-f02c-4518-8e34-fc1f945e6408",
   "metadata": {
    "execution": {
     "iopub.execute_input": "2023-02-09T06:43:18.961617Z",
     "iopub.status.busy": "2023-02-09T06:43:18.961617Z",
     "iopub.status.idle": "2023-02-09T06:43:19.000347Z",
     "shell.execute_reply": "2023-02-09T06:43:18.999387Z",
     "shell.execute_reply.started": "2023-02-09T06:43:18.961617Z"
    },
    "tags": []
   },
   "outputs": [
    {
     "data": {
      "text/plain": [
       "(2037, 8)"
      ]
     },
     "execution_count": 25,
     "metadata": {},
     "output_type": "execute_result"
    }
   ],
   "source": [
    "data10 = pd.read_csv(data_path + \"10. 공공데이터포털_경찰관서위치주소현황.csv\", encoding='cp949')\n",
    "data10.shape"
   ]
  },
  {
   "cell_type": "markdown",
   "id": "b3ae6fda-d65a-423e-bf16-c44ac4c56b14",
   "metadata": {},
   "source": [
    "## 11. 소상공인진흥공단 상권정보(377724 rows × 39 columns)\n",
    "### 영업 중인 전국 상가업소 데이터 제공(상호명, 업종코드, 업종명, 지번주소, 도로명주소, 위도, 경도 등)"
   ]
  },
  {
   "cell_type": "code",
   "execution_count": 30,
   "id": "0b3693c3-37c9-4093-af8c-dbac081ee218",
   "metadata": {
    "execution": {
     "iopub.execute_input": "2023-02-09T06:47:28.786228Z",
     "iopub.status.busy": "2023-02-09T06:47:28.786228Z",
     "iopub.status.idle": "2023-02-09T06:47:34.393955Z",
     "shell.execute_reply": "2023-02-09T06:47:34.391765Z",
     "shell.execute_reply.started": "2023-02-09T06:47:28.786228Z"
    }
   },
   "outputs": [
    {
     "data": {
      "text/plain": [
       "(377724, 39)"
      ]
     },
     "execution_count": 30,
     "metadata": {},
     "output_type": "execute_result"
    }
   ],
   "source": [
    "data11 = pd.read_csv(data_path + \"소상공인시장진흥공단_상가(상권)정보_서울_202212.csv\")\n",
    "data11.shape"
   ]
  },
  {
   "cell_type": "markdown",
   "id": "f1dccf75-29a1-4d3f-a840-a461ddab63a2",
   "metadata": {},
   "source": [
    "# 나이스"
   ]
  },
  {
   "cell_type": "markdown",
   "id": "581a5106-5bc6-4a49-ac15-984e06a04784",
   "metadata": {},
   "source": [
    "## 12. 학교기본정보(1421 rows × 25 columns)\n",
    "### 학교 기본정보에 대한 학교명, 소재지, 주소, 위경도, 전화번호, 홈페이지주소, 남녀공학여부, 주야구분, 개교기념일 등을 확인할 수 있는 정보"
   ]
  },
  {
   "cell_type": "code",
   "execution_count": 29,
   "id": "a37c2812-a84a-483f-9b0f-664215a553f8",
   "metadata": {
    "execution": {
     "iopub.execute_input": "2023-02-09T06:46:14.549683Z",
     "iopub.status.busy": "2023-02-09T06:46:14.549683Z",
     "iopub.status.idle": "2023-02-09T06:46:14.601459Z",
     "shell.execute_reply": "2023-02-09T06:46:14.599981Z",
     "shell.execute_reply.started": "2023-02-09T06:46:14.549683Z"
    },
    "tags": []
   },
   "outputs": [
    {
     "data": {
      "text/plain": [
       "(1421, 25)"
      ]
     },
     "execution_count": 29,
     "metadata": {},
     "output_type": "execute_result"
    }
   ],
   "source": [
    "data12 = pd.read_csv(data_path + \"12. 나이스_학교기본정보.csv\")\n",
    "data12.shape"
   ]
  }
 ],
 "metadata": {
  "kernelspec": {
   "display_name": "Python 3 (ipykernel)",
   "language": "python",
   "name": "python3"
  },
  "language_info": {
   "codemirror_mode": {
    "name": "ipython",
    "version": 3
   },
   "file_extension": ".py",
   "mimetype": "text/x-python",
   "name": "python",
   "nbconvert_exporter": "python",
   "pygments_lexer": "ipython3",
   "version": "3.9.15"
  }
 },
 "nbformat": 4,
 "nbformat_minor": 5
}

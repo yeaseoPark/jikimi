{
 "cells": [
  {
   "cell_type": "markdown",
   "id": "edf3a3a3-d60b-4570-b260-673426799abf",
   "metadata": {},
   "source": [
    "#  학교폭력 구글 기사 크롤링"
   ]
  },
  {
   "cell_type": "code",
   "execution_count": 4,
   "id": "c592be79-ab8e-4940-afde-c4131d8ef3b4",
   "metadata": {
    "execution": {
     "iopub.execute_input": "2023-02-09T05:29:37.318643Z",
     "iopub.status.busy": "2023-02-09T05:29:37.317629Z",
     "iopub.status.idle": "2023-02-09T05:29:43.108829Z",
     "shell.execute_reply": "2023-02-09T05:29:43.107828Z",
     "shell.execute_reply.started": "2023-02-09T05:29:37.318643Z"
    }
   },
   "outputs": [
    {
     "name": "stdout",
     "output_type": "stream",
     "text": [
      "Collecting chromedriver_autoinstaller\n",
      "  Downloading chromedriver_autoinstaller-0.4.0-py3-none-any.whl (6.5 kB)\n",
      "Installing collected packages: chromedriver_autoinstaller\n",
      "Successfully installed chromedriver_autoinstaller-0.4.0\n"
     ]
    }
   ],
   "source": [
    "! pip install chromedriver_autoinstaller"
   ]
  },
  {
   "cell_type": "code",
   "execution_count": 5,
   "id": "d9e9fba2-5a60-44ea-a36d-47efb38999c2",
   "metadata": {
    "execution": {
     "iopub.execute_input": "2023-02-09T05:29:45.852724Z",
     "iopub.status.busy": "2023-02-09T05:29:45.852724Z",
     "iopub.status.idle": "2023-02-09T05:29:46.230607Z",
     "shell.execute_reply": "2023-02-09T05:29:46.229697Z",
     "shell.execute_reply.started": "2023-02-09T05:29:45.852724Z"
    },
    "tags": []
   },
   "outputs": [],
   "source": [
    "# 필요 패키지 임포트\n",
    "import selenium\n",
    "from selenium import webdriver\n",
    "import chromedriver_autoinstaller\n",
    "import pandas as pd\n",
    "import numpy as np\n",
    "from bs4 import BeautifulSoup \n",
    "from tqdm import tqdm_notebook\n",
    "import time\n",
    "from selenium.webdriver.common.keys import Keys\n",
    "from html_table_parser import parser_functions as parser\n",
    "import os\n",
    "from selenium.webdriver.common.by import By"
   ]
  },
  {
   "cell_type": "code",
   "execution_count": 6,
   "id": "213b8aaa-0515-42fb-846b-d02a417a6007",
   "metadata": {
    "execution": {
     "iopub.execute_input": "2023-02-09T05:29:47.511460Z",
     "iopub.status.busy": "2023-02-09T05:29:47.511460Z",
     "iopub.status.idle": "2023-02-09T05:29:48.350968Z",
     "shell.execute_reply": "2023-02-09T05:29:48.348974Z",
     "shell.execute_reply.started": "2023-02-09T05:29:47.511460Z"
    }
   },
   "outputs": [
    {
     "name": "stdout",
     "output_type": "stream",
     "text": [
      "109.0.5414.120\n",
      "./109/chromedriver.exe\n",
      "True\n",
      "chromedriver.exe\n"
     ]
    }
   ],
   "source": [
    "#크롬 브라우저 버전 확인\n",
    "chrome_ver = chromedriver_autoinstaller.get_chrome_version()\n",
    "print(chrome_ver)\n",
    "chromedriver_autoinstaller.install(True)\n",
    "chromedriver_path = f'./{chrome_ver.split(\".\")[0]}/chromedriver.exe'\n",
    "\n",
    "print(chromedriver_path)\n",
    "print(os.path.exists(chromedriver_path))\n",
    "print(os.path.basename(chromedriver_path))"
   ]
  },
  {
   "cell_type": "code",
   "execution_count": 7,
   "id": "67dac908-da5a-4a97-8e1c-8abc9e31e0dc",
   "metadata": {
    "execution": {
     "iopub.execute_input": "2023-02-09T05:29:49.973031Z",
     "iopub.status.busy": "2023-02-09T05:29:49.973031Z",
     "iopub.status.idle": "2023-02-09T05:29:49.983051Z",
     "shell.execute_reply": "2023-02-09T05:29:49.982092Z",
     "shell.execute_reply.started": "2023-02-09T05:29:49.973031Z"
    }
   },
   "outputs": [],
   "source": [
    "def print_list(data):\n",
    "    for idx, d in enumerate(data):\n",
    "        print(data)\n",
    "        print(f'{idx} : ', d)\n",
    "def double_list(list):\n",
    "    double_list=[]\n",
    "    for i in list:\n",
    "        double_list.append(i)\n",
    "        double_list.append(i)\n",
    "    return double_list"
   ]
  },
  {
   "cell_type": "code",
   "execution_count": 16,
   "id": "d7f8c546-e39b-45e5-afc1-c0b04d0c39c1",
   "metadata": {
    "execution": {
     "iopub.execute_input": "2023-02-09T05:44:14.219972Z",
     "iopub.status.busy": "2023-02-09T05:44:14.218976Z",
     "iopub.status.idle": "2023-02-09T05:44:21.640128Z",
     "shell.execute_reply": "2023-02-09T05:44:21.639129Z",
     "shell.execute_reply.started": "2023-02-09T05:44:14.219972Z"
    },
    "tags": []
   },
   "outputs": [
    {
     "name": "stderr",
     "output_type": "stream",
     "text": [
      "C:\\Users\\ppi06\\AppData\\Local\\Temp\\ipykernel_10660\\2529219641.py:4: DeprecationWarning: executable_path has been deprecated, please pass in a Service object\n",
      "  driver = webdriver.Chrome('./driver/chromedriver.exe')\n"
     ]
    }
   ],
   "source": [
    "url = 'http://www.google.com'\n",
    "\n",
    "# 브라우저 창\n",
    "driver = webdriver.Chrome('./driver/chromedriver.exe')\n",
    "\n",
    "# 페이지 이동 (페이지 폭 모바일로 줄여줘야 함)\n",
    "driver.get(url)\n",
    "time.sleep(3)"
   ]
  },
  {
   "cell_type": "code",
   "execution_count": 17,
   "id": "8d26c40b-7be7-486e-9fee-bfce883ec9d4",
   "metadata": {
    "execution": {
     "iopub.execute_input": "2023-02-09T05:44:21.643118Z",
     "iopub.status.busy": "2023-02-09T05:44:21.643118Z",
     "iopub.status.idle": "2023-02-09T05:44:55.005801Z",
     "shell.execute_reply": "2023-02-09T05:44:55.003625Z",
     "shell.execute_reply.started": "2023-02-09T05:44:21.643118Z"
    },
    "scrolled": true,
    "tags": []
   },
   "outputs": [
    {
     "name": "stdout",
     "output_type": "stream",
     "text": [
      "0페이지1번째 기사에서 오류가 발생했습니다.\n",
      "0페이지2번째 기사에서 오류가 발생했습니다.\n",
      "0페이지3번째 기사에서 오류가 발생했습니다.\n",
      "0페이지4번째 기사에서 오류가 발생했습니다.\n",
      "0페이지5번째 기사에서 오류가 발생했습니다.\n",
      "0페이지6번째 기사에서 오류가 발생했습니다.\n",
      "0페이지7번째 기사에서 오류가 발생했습니다.\n",
      "0페이지8번째 기사에서 오류가 발생했습니다.\n",
      "0페이지9번째 기사에서 오류가 발생했습니다.\n",
      "0페이지10번째 기사에서 오류가 발생했습니다.\n",
      "1페이지1번째 기사에서 오류가 발생했습니다.\n",
      "1페이지2번째 기사에서 오류가 발생했습니다.\n",
      "1페이지3번째 기사에서 오류가 발생했습니다.\n",
      "1페이지4번째 기사에서 오류가 발생했습니다.\n",
      "1페이지5번째 기사에서 오류가 발생했습니다.\n",
      "1페이지6번째 기사에서 오류가 발생했습니다.\n",
      "1페이지7번째 기사에서 오류가 발생했습니다.\n",
      "1페이지8번째 기사에서 오류가 발생했습니다.\n",
      "1페이지9번째 기사에서 오류가 발생했습니다.\n",
      "1페이지10번째 기사에서 오류가 발생했습니다.\n",
      "2페이지1번째 기사에서 오류가 발생했습니다.\n",
      "2페이지2번째 기사에서 오류가 발생했습니다.\n",
      "2페이지3번째 기사에서 오류가 발생했습니다.\n",
      "2페이지4번째 기사에서 오류가 발생했습니다.\n",
      "2페이지5번째 기사에서 오류가 발생했습니다.\n",
      "2페이지6번째 기사에서 오류가 발생했습니다.\n",
      "2페이지7번째 기사에서 오류가 발생했습니다.\n",
      "2페이지8번째 기사에서 오류가 발생했습니다.\n",
      "2페이지9번째 기사에서 오류가 발생했습니다.\n",
      "2페이지10번째 기사에서 오류가 발생했습니다.\n",
      "3페이지1번째 기사에서 오류가 발생했습니다.\n",
      "3페이지2번째 기사에서 오류가 발생했습니다.\n",
      "3페이지3번째 기사에서 오류가 발생했습니다.\n",
      "3페이지4번째 기사에서 오류가 발생했습니다.\n",
      "3페이지5번째 기사에서 오류가 발생했습니다.\n",
      "3페이지6번째 기사에서 오류가 발생했습니다.\n",
      "3페이지7번째 기사에서 오류가 발생했습니다.\n",
      "3페이지8번째 기사에서 오류가 발생했습니다.\n",
      "3페이지9번째 기사에서 오류가 발생했습니다.\n",
      "3페이지10번째 기사에서 오류가 발생했습니다.\n",
      "4페이지1번째 기사에서 오류가 발생했습니다.\n",
      "4페이지2번째 기사에서 오류가 발생했습니다.\n",
      "4페이지3번째 기사에서 오류가 발생했습니다.\n",
      "4페이지4번째 기사에서 오류가 발생했습니다.\n",
      "4페이지5번째 기사에서 오류가 발생했습니다.\n",
      "4페이지6번째 기사에서 오류가 발생했습니다.\n",
      "4페이지7번째 기사에서 오류가 발생했습니다.\n",
      "4페이지8번째 기사에서 오류가 발생했습니다.\n",
      "4페이지9번째 기사에서 오류가 발생했습니다.\n",
      "4페이지10번째 기사에서 오류가 발생했습니다.\n",
      "5페이지1번째 기사에서 오류가 발생했습니다.\n",
      "5페이지2번째 기사에서 오류가 발생했습니다.\n",
      "5페이지3번째 기사에서 오류가 발생했습니다.\n",
      "5페이지4번째 기사에서 오류가 발생했습니다.\n",
      "5페이지5번째 기사에서 오류가 발생했습니다.\n",
      "5페이지6번째 기사에서 오류가 발생했습니다.\n",
      "5페이지7번째 기사에서 오류가 발생했습니다.\n",
      "5페이지8번째 기사에서 오류가 발생했습니다.\n",
      "5페이지9번째 기사에서 오류가 발생했습니다.\n",
      "5페이지10번째 기사에서 오류가 발생했습니다.\n",
      "6페이지1번째 기사에서 오류가 발생했습니다.\n",
      "6페이지2번째 기사에서 오류가 발생했습니다.\n",
      "6페이지3번째 기사에서 오류가 발생했습니다.\n",
      "6페이지4번째 기사에서 오류가 발생했습니다.\n",
      "6페이지5번째 기사에서 오류가 발생했습니다.\n",
      "6페이지6번째 기사에서 오류가 발생했습니다.\n",
      "6페이지7번째 기사에서 오류가 발생했습니다.\n",
      "6페이지8번째 기사에서 오류가 발생했습니다.\n",
      "6페이지9번째 기사에서 오류가 발생했습니다.\n",
      "6페이지10번째 기사에서 오류가 발생했습니다.\n",
      "7페이지1번째 기사에서 오류가 발생했습니다.\n",
      "7페이지2번째 기사에서 오류가 발생했습니다.\n",
      "7페이지3번째 기사에서 오류가 발생했습니다.\n",
      "7페이지4번째 기사에서 오류가 발생했습니다.\n",
      "7페이지5번째 기사에서 오류가 발생했습니다.\n",
      "7페이지6번째 기사에서 오류가 발생했습니다.\n",
      "7페이지7번째 기사에서 오류가 발생했습니다.\n",
      "7페이지8번째 기사에서 오류가 발생했습니다.\n",
      "7페이지9번째 기사에서 오류가 발생했습니다.\n",
      "7페이지10번째 기사에서 오류가 발생했습니다.\n",
      "8페이지1번째 기사에서 오류가 발생했습니다.\n",
      "8페이지2번째 기사에서 오류가 발생했습니다.\n",
      "8페이지3번째 기사에서 오류가 발생했습니다.\n",
      "8페이지4번째 기사에서 오류가 발생했습니다.\n",
      "8페이지5번째 기사에서 오류가 발생했습니다.\n",
      "8페이지6번째 기사에서 오류가 발생했습니다.\n",
      "8페이지7번째 기사에서 오류가 발생했습니다.\n",
      "8페이지8번째 기사에서 오류가 발생했습니다.\n",
      "8페이지9번째 기사에서 오류가 발생했습니다.\n",
      "8페이지10번째 기사에서 오류가 발생했습니다.\n",
      "9페이지1번째 기사에서 오류가 발생했습니다.\n",
      "9페이지2번째 기사에서 오류가 발생했습니다.\n",
      "9페이지3번째 기사에서 오류가 발생했습니다.\n",
      "9페이지4번째 기사에서 오류가 발생했습니다.\n",
      "9페이지5번째 기사에서 오류가 발생했습니다.\n",
      "9페이지6번째 기사에서 오류가 발생했습니다.\n",
      "9페이지7번째 기사에서 오류가 발생했습니다.\n",
      "9페이지8번째 기사에서 오류가 발생했습니다.\n",
      "9페이지9번째 기사에서 오류가 발생했습니다.\n",
      "9페이지10번째 기사에서 오류가 발생했습니다.\n",
      "10페이지1번째 기사에서 오류가 발생했습니다.\n",
      "10페이지2번째 기사에서 오류가 발생했습니다.\n",
      "10페이지3번째 기사에서 오류가 발생했습니다.\n",
      "10페이지4번째 기사에서 오류가 발생했습니다.\n",
      "10페이지5번째 기사에서 오류가 발생했습니다.\n",
      "10페이지6번째 기사에서 오류가 발생했습니다.\n",
      "10페이지7번째 기사에서 오류가 발생했습니다.\n",
      "10페이지8번째 기사에서 오류가 발생했습니다.\n",
      "10페이지9번째 기사에서 오류가 발생했습니다.\n",
      "10페이지10번째 기사에서 오류가 발생했습니다.\n",
      "11페이지1번째 기사에서 오류가 발생했습니다.\n",
      "11페이지2번째 기사에서 오류가 발생했습니다.\n",
      "11페이지3번째 기사에서 오류가 발생했습니다.\n",
      "11페이지4번째 기사에서 오류가 발생했습니다.\n",
      "11페이지5번째 기사에서 오류가 발생했습니다.\n",
      "11페이지6번째 기사에서 오류가 발생했습니다.\n",
      "11페이지7번째 기사에서 오류가 발생했습니다.\n",
      "11페이지8번째 기사에서 오류가 발생했습니다.\n",
      "11페이지9번째 기사에서 오류가 발생했습니다.\n",
      "11페이지10번째 기사에서 오류가 발생했습니다.\n",
      "12페이지1번째 기사에서 오류가 발생했습니다.\n",
      "12페이지2번째 기사에서 오류가 발생했습니다.\n",
      "12페이지3번째 기사에서 오류가 발생했습니다.\n",
      "12페이지4번째 기사에서 오류가 발생했습니다.\n",
      "12페이지5번째 기사에서 오류가 발생했습니다.\n",
      "12페이지6번째 기사에서 오류가 발생했습니다.\n",
      "12페이지7번째 기사에서 오류가 발생했습니다.\n",
      "12페이지8번째 기사에서 오류가 발생했습니다.\n",
      "12페이지9번째 기사에서 오류가 발생했습니다.\n",
      "12페이지10번째 기사에서 오류가 발생했습니다.\n",
      "13페이지1번째 기사에서 오류가 발생했습니다.\n",
      "13페이지2번째 기사에서 오류가 발생했습니다.\n",
      "13페이지3번째 기사에서 오류가 발생했습니다.\n",
      "13페이지4번째 기사에서 오류가 발생했습니다.\n",
      "13페이지5번째 기사에서 오류가 발생했습니다.\n",
      "13페이지6번째 기사에서 오류가 발생했습니다.\n",
      "13페이지7번째 기사에서 오류가 발생했습니다.\n",
      "13페이지8번째 기사에서 오류가 발생했습니다.\n",
      "13페이지9번째 기사에서 오류가 발생했습니다.\n",
      "13페이지10번째 기사에서 오류가 발생했습니다.\n",
      "14페이지1번째 기사에서 오류가 발생했습니다.\n",
      "14페이지2번째 기사에서 오류가 발생했습니다.\n",
      "14페이지3번째 기사에서 오류가 발생했습니다.\n",
      "14페이지4번째 기사에서 오류가 발생했습니다.\n",
      "14페이지5번째 기사에서 오류가 발생했습니다.\n",
      "14페이지6번째 기사에서 오류가 발생했습니다.\n",
      "14페이지7번째 기사에서 오류가 발생했습니다.\n",
      "14페이지8번째 기사에서 오류가 발생했습니다.\n",
      "14페이지9번째 기사에서 오류가 발생했습니다.\n",
      "14페이지10번째 기사에서 오류가 발생했습니다.\n",
      "15페이지1번째 기사에서 오류가 발생했습니다.\n",
      "15페이지2번째 기사에서 오류가 발생했습니다.\n",
      "15페이지3번째 기사에서 오류가 발생했습니다.\n",
      "15페이지4번째 기사에서 오류가 발생했습니다.\n",
      "15페이지5번째 기사에서 오류가 발생했습니다.\n",
      "15페이지6번째 기사에서 오류가 발생했습니다.\n",
      "15페이지7번째 기사에서 오류가 발생했습니다.\n",
      "15페이지8번째 기사에서 오류가 발생했습니다.\n",
      "15페이지9번째 기사에서 오류가 발생했습니다.\n",
      "15페이지10번째 기사에서 오류가 발생했습니다.\n",
      "16페이지1번째 기사에서 오류가 발생했습니다.\n",
      "16페이지2번째 기사에서 오류가 발생했습니다.\n",
      "16페이지3번째 기사에서 오류가 발생했습니다.\n",
      "16페이지4번째 기사에서 오류가 발생했습니다.\n",
      "16페이지5번째 기사에서 오류가 발생했습니다.\n",
      "16페이지6번째 기사에서 오류가 발생했습니다.\n",
      "16페이지7번째 기사에서 오류가 발생했습니다.\n",
      "16페이지8번째 기사에서 오류가 발생했습니다.\n",
      "16페이지9번째 기사에서 오류가 발생했습니다.\n",
      "16페이지10번째 기사에서 오류가 발생했습니다.\n",
      "17페이지1번째 기사에서 오류가 발생했습니다.\n",
      "17페이지2번째 기사에서 오류가 발생했습니다.\n",
      "17페이지3번째 기사에서 오류가 발생했습니다.\n",
      "17페이지4번째 기사에서 오류가 발생했습니다.\n",
      "17페이지5번째 기사에서 오류가 발생했습니다.\n",
      "17페이지6번째 기사에서 오류가 발생했습니다.\n",
      "17페이지7번째 기사에서 오류가 발생했습니다.\n",
      "17페이지8번째 기사에서 오류가 발생했습니다.\n",
      "17페이지9번째 기사에서 오류가 발생했습니다.\n",
      "17페이지10번째 기사에서 오류가 발생했습니다.\n",
      "18페이지1번째 기사에서 오류가 발생했습니다.\n",
      "18페이지2번째 기사에서 오류가 발생했습니다.\n",
      "18페이지3번째 기사에서 오류가 발생했습니다.\n",
      "18페이지4번째 기사에서 오류가 발생했습니다.\n",
      "18페이지5번째 기사에서 오류가 발생했습니다.\n",
      "18페이지6번째 기사에서 오류가 발생했습니다.\n",
      "18페이지7번째 기사에서 오류가 발생했습니다.\n",
      "18페이지8번째 기사에서 오류가 발생했습니다.\n",
      "18페이지9번째 기사에서 오류가 발생했습니다.\n",
      "18페이지10번째 기사에서 오류가 발생했습니다.\n"
     ]
    }
   ],
   "source": [
    "from selenium import webdriver\n",
    "from selenium.webdriver.common.keys import Keys # 엔터키 입력용\n",
    "import pandas as pd\n",
    "\n",
    "# driver.get('http://www.google.com') # 구글 홈페이지 내용 렌더링\n",
    "target=driver.find_element(By.CSS_SELECTOR,\"[name = 'q']\") # 검색어 지정\n",
    "target.send_keys('학교폭력cctv') # 타겟에 '학교폭력cctv' 입력\n",
    "target.send_keys(Keys.ENTER) # 엔터처리\n",
    "\n",
    "# 뉴스 페이지로 이동\n",
    "news = driver.find_element(By.CSS_SELECTOR, '#hdtb-msb > div:nth-child(1) > div > div:nth-child(4) > a')\n",
    "news.click()\n",
    "\n",
    "# 뉴스 헤드라인 수집\n",
    "news_title = []\n",
    "news_press = []\n",
    "\n",
    "# 알고리즘\n",
    "# 다음 페이지 -> #pnnext > span:nth-child(2)\n",
    "for i in range(19):\n",
    "    \n",
    "# 한페이지당 뉴스타이틀, 언론사 10개 수집\n",
    "    for k in range(1,11):\n",
    "        try : \n",
    "            title = driver.find_element(By.CSS_SELECTOR, '#rso > div > div > div:nth-child('+ str(k) +') > div > div > a > div > div.iRPxbe > div.CEMjEf.NUnG9d')\n",
    "            news_title.append(title.text)\n",
    "            press = driver.find_element(By.CSS_SELECTOR,'#rso > > div > div > div:nth-child('+ str(k) +') > div > div > a > div > div.iRPxbe > div.mCBkyc.ynAwRc.MBeuO.nDgy9d')\n",
    "            news_press.append(press.text)\n",
    "        except :\n",
    "            print(str(i) + \"페이지\" +str(k) +\"번째 기사에서 오류가 발생했습니다.\")\n",
    "    next_btn = driver.find_element(By.CSS_SELECTOR,'#pnnext > span:nth-child(2)')\n",
    "    next_btn.click()\n",
    "\n",
    "#rso > div > div > div:nth-child(1) > div > div > a > div > div.iRPxbe > div.CEMjEf.NUnG9d\n",
    "#rso > div > div > div:nth-child(1) > div > div > a > div > div.iRPxbe > div.mCBkyc.ynAwRc.MBeuO.nDgy9d\n",
    "#pnnext > span:nth-child(2)"
   ]
  },
  {
   "cell_type": "code",
   "execution_count": 10,
   "id": "e648a7db-7a68-4035-a44d-43bab520e35a",
   "metadata": {
    "execution": {
     "iopub.execute_input": "2023-02-09T05:31:59.316256Z",
     "iopub.status.busy": "2023-02-09T05:31:59.316256Z",
     "iopub.status.idle": "2023-02-09T05:31:59.355982Z",
     "shell.execute_reply": "2023-02-09T05:31:59.354474Z",
     "shell.execute_reply.started": "2023-02-09T05:31:59.316256Z"
    }
   },
   "outputs": [
    {
     "data": {
      "text/html": [
       "<div>\n",
       "<style scoped>\n",
       "    .dataframe tbody tr th:only-of-type {\n",
       "        vertical-align: middle;\n",
       "    }\n",
       "\n",
       "    .dataframe tbody tr th {\n",
       "        vertical-align: top;\n",
       "    }\n",
       "\n",
       "    .dataframe thead th {\n",
       "        text-align: right;\n",
       "    }\n",
       "</style>\n",
       "<table border=\"1\" class=\"dataframe\">\n",
       "  <thead>\n",
       "    <tr style=\"text-align: right;\">\n",
       "      <th></th>\n",
       "    </tr>\n",
       "  </thead>\n",
       "  <tbody>\n",
       "  </tbody>\n",
       "</table>\n",
       "</div>"
      ],
      "text/plain": [
       "Empty DataFrame\n",
       "Columns: []\n",
       "Index: []"
      ]
     },
     "metadata": {},
     "output_type": "display_data"
    }
   ],
   "source": [
    "import pandas as pd\n",
    "\n",
    "df = pd.DataFrame(news_title, news_press)\n",
    "display(df)"
   ]
  },
  {
   "cell_type": "code",
   "execution_count": null,
   "id": "010b86b6-77f9-4174-a824-7afe06efcac1",
   "metadata": {},
   "outputs": [],
   "source": []
  },
  {
   "cell_type": "code",
   "execution_count": null,
   "id": "c32817ae-7421-4f0a-a703-7ccef401a4fe",
   "metadata": {},
   "outputs": [],
   "source": []
  },
  {
   "cell_type": "code",
   "execution_count": null,
   "id": "6482a46b-3c54-45fd-9eca-d54c929070fe",
   "metadata": {},
   "outputs": [],
   "source": []
  },
  {
   "cell_type": "code",
   "execution_count": null,
   "id": "127f3802-df1b-459d-bfb4-b95a2379489e",
   "metadata": {},
   "outputs": [],
   "source": []
  }
 ],
 "metadata": {
  "kernelspec": {
   "display_name": "Python 3 (ipykernel)",
   "language": "python",
   "name": "python3"
  },
  "language_info": {
   "codemirror_mode": {
    "name": "ipython",
    "version": 3
   },
   "file_extension": ".py",
   "mimetype": "text/x-python",
   "name": "python",
   "nbconvert_exporter": "python",
   "pygments_lexer": "ipython3",
   "version": "3.9.15"
  }
 },
 "nbformat": 4,
 "nbformat_minor": 5
}

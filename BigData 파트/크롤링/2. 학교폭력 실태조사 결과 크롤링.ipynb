{
 "cells": [
  {
   "cell_type": "code",
   "execution_count": 1,
   "id": "5dd91a8d",
   "metadata": {},
   "outputs": [],
   "source": [
    "# 필요 패키지 임포트\n",
    "import selenium\n",
    "from selenium import webdriver\n",
    "import chromedriver_autoinstaller\n",
    "import pandas as pd\n",
    "import numpy as np\n",
    "from bs4 import BeautifulSoup \n",
    "from tqdm import tqdm_notebook\n",
    "import time\n",
    "from selenium.webdriver.common.keys import Keys\n",
    "from html_table_parser import parser_functions as parser\n",
    "import os\n",
    "from selenium.webdriver.common.by import By"
   ]
  },
  {
   "cell_type": "code",
   "execution_count": 2,
   "id": "31907a3c",
   "metadata": {},
   "outputs": [
    {
     "name": "stdout",
     "output_type": "stream",
     "text": [
      "109.0.5414.75\n",
      "./109/chromedriver.exe\n",
      "True\n",
      "chromedriver.exe\n"
     ]
    }
   ],
   "source": [
    "#크롬 브라우저 버전 확인\n",
    "chrome_ver = chromedriver_autoinstaller.get_chrome_version()\n",
    "print(chrome_ver)\n",
    "chromedriver_autoinstaller.install(True)\n",
    "chromedriver_path = f'./{chrome_ver.split(\".\")[0]}/chromedriver.exe'\n",
    "\n",
    "print(chromedriver_path)\n",
    "print(os.path.exists(chromedriver_path))\n",
    "print(os.path.basename(chromedriver_path))"
   ]
  },
  {
   "cell_type": "code",
   "execution_count": 96,
   "id": "9fb9550b",
   "metadata": {},
   "outputs": [],
   "source": [
    "def print_list(data):\n",
    "    for idx, d in enumerate(data):\n",
    "        print(data)\n",
    "        print(f'{idx} : ', d)\n",
    "def double_list(list):\n",
    "    double_list=[]\n",
    "    for i in list:\n",
    "        double_list.append(i)\n",
    "        double_list.append(i)\n",
    "    return double_list"
   ]
  },
  {
   "cell_type": "code",
   "execution_count": 366,
   "id": "4dbfb7f0",
   "metadata": {},
   "outputs": [
    {
     "name": "stderr",
     "output_type": "stream",
     "text": [
      "C:\\Users\\PKH\\AppData\\Local\\Temp/ipykernel_2284/575505947.py:4: DeprecationWarning: executable_path has been deprecated, please pass in a Service object\n",
      "  driver = webdriver.Chrome('./driver/chromedriver.exe')\n"
     ]
    },
    {
     "name": "stdout",
     "output_type": "stream",
     "text": [
      "24 번째까지 했다!\n",
      "0 번: 시·군·구 선택\n",
      "1 번: 강남구\n",
      "2 번: 강동구\n",
      "3 번: 강북구\n",
      "4 번: 강서구\n",
      "5 번: 관악구\n",
      "6 번: 광진구\n",
      "7 번: 구로구\n",
      "8 번: 금천구\n",
      "9 번: 노원구\n",
      "10 번: 도봉구\n",
      "11 번: 동대문구\n",
      "12 번: 동작구\n",
      "13 번: 마포구\n",
      "14 번: 서대문구\n",
      "15 번: 서초구\n",
      "16 번: 성동구\n",
      "17 번: 성북구\n",
      "18 번: 송파구\n",
      "19 번: 양천구\n",
      "20 번: 영등포구\n",
      "21 번: 용산구\n",
      "22 번: 은평구\n",
      "23 번: 종로구\n",
      "24 번: 중구\n",
      "25 번: 중랑구\n",
      "시군구 번호 입력: 25\n"
     ]
    }
   ],
   "source": [
    "url = 'https://www.schoolinfo.go.kr/ei/ss/pneiss_a05_s0.do'\n",
    "\n",
    "# 브라우저 창\n",
    "driver = webdriver.Chrome('./driver/chromedriver.exe')\n",
    "\n",
    "# 페이지 이동 (페이지 폭 모바일로 줄여줘야 함)\n",
    "driver.get(url)\n",
    "time.sleep(3)\n",
    "\n",
    "# 학교 급 (고등학교 선택)\n",
    "class_btn = driver.find_element(By.XPATH,'//*[@id=\"searchForm\"]/div/div/div[1]/div/ul/li[3]/label')\n",
    "driver.execute_script(\"arguments[0].click();\", class_btn)\n",
    "\n",
    "# 지역\n",
    "# 시도\n",
    "filetype_sel = driver.find_element(By.XPATH,'//*[@id=\"sidoCode\"]')\n",
    "filetype_sel.send_keys(\"서울특별시\")\n",
    "\n",
    "# 구\n",
    "# 구 list 추출\n",
    "sigungu_list_raw = driver.find_element(By.XPATH,'//*[@id=\"sigunguCode\"]')\n",
    "sigungu_list = sigungu_list_raw.find_elements(By.TAG_NAME, 'option')\n",
    "sigungu_options = [option.get_attribute('text') for option in sigungu_list]\n",
    "\n",
    "try:\n",
    "    print(f'{num} 번째까지 했다!')\n",
    "except:\n",
    "    print('처음 시작한다!')\n",
    "for idx, option in enumerate(sigungu_options):\n",
    "    print(f'{idx} 번:',option)\n",
    "    \n",
    "num = int(input('시군구 번호 입력: '))\n",
    "\n",
    "# 구 선택\n",
    "filetype_sel = driver.find_element(By.XPATH,'//*[@id=\"sigunguCode\"]')\n",
    "filetype_sel.send_keys(sigungu_options[num])\n",
    "\n",
    "# 공시년도\n",
    "# 연도 선택\n",
    "filetype_sel = driver.find_element(By.XPATH,'//*[@id=\"gsYear\"]')\n",
    "filetype_sel.send_keys('2021년')\n",
    "\n",
    "# 연도 선택 버튼 클릭\n",
    "year_select_btn = driver.find_element(By.XPATH,'//*[@id=\"gsYearBtn\"]')\n",
    "driver.execute_script(\"arguments[0].click();\", year_select_btn)\n",
    "\n",
    "# 공시항목\n",
    "# 항목분류\n",
    "filetype_sel = driver.find_element(By.XPATH,'//*[@id=\"m_buryu\"]')\n",
    "filetype_sel.send_keys('교육여건')\n",
    "\n",
    "# 공시항목 - 1\n",
    "filetype_sel = driver.find_element(By.XPATH,'//*[@id=\"m_gongsi\"]')\n",
    "filetype_sel.send_keys('학교폭력 실태조사 결과')\n",
    "\n",
    "# 학교 급\n",
    "search_btn = driver.find_element(By.XPATH,'//*[@id=\"searchForm\"]/input')\n",
    "driver.execute_script(\"arguments[0].click();\", search_btn)"
   ]
  },
  {
   "cell_type": "code",
   "execution_count": 367,
   "id": "974e630f",
   "metadata": {},
   "outputs": [
    {
     "name": "stdout",
     "output_type": "stream",
     "text": [
      "['tr_B100000430', 'tr_B100000475', 'tr_B100000647', 'tr_B100000476', 'tr_B100005204', 'tr_B100005364', 'tr_B100000650', 'tr_B100000536', 'tr_B100000547', 'tr_B100000561']\n",
      "['면목고등학교', '송곡고등학교', '송곡관광고등학교', '송곡여자고등학교', '신현고등학교', '원묵고등학교', '이화여자대학교병설미디어고등학교', '중화고등학교', '태릉고등학교', '혜원여자고등학교']\n"
     ]
    }
   ],
   "source": [
    "# 학교별 code list\n",
    "school_list_raw = driver.find_element(By.XPATH,'//*[@id=\"contents\"]/div/div/div[2]/div/table/tbody')\n",
    "school_list = school_list_raw.find_elements(By.TAG_NAME,'tr')\n",
    "school_options = [option.get_attribute('id') for option in school_list]\n",
    "print(school_options)\n",
    "\n",
    "# 학교별 name list\n",
    "school_name_list = school_list_raw.find_elements(By.CLASS_NAME,'col_schoolname')\n",
    "school_names = [name.text[2:] for name in school_name_list]\n",
    "print(school_names)"
   ]
  },
  {
   "cell_type": "code",
   "execution_count": 368,
   "id": "54b47106",
   "metadata": {},
   "outputs": [],
   "source": [
    "# 학교별 code list 사용하여 xpath list 생성\n",
    "\n",
    "school_xpaths = []\n",
    "for school_code in school_options:\n",
    "    xpath1 = '//*[@id=\"gongsiSelect_'\n",
    "    school_code = school_code[3:]\n",
    "    xpath2 = '\"]'\n",
    "    school_xpath = xpath1+school_code+xpath2\n",
    "    school_xpaths.append(school_xpath)"
   ]
  },
  {
   "cell_type": "code",
   "execution_count": 369,
   "id": "8008bc2d",
   "metadata": {},
   "outputs": [
    {
     "name": "stdout",
     "output_type": "stream",
     "text": [
      "보안코드입력 : 297238\n"
     ]
    }
   ],
   "source": [
    "time.sleep(1)\n",
    "filetype_sel = driver.find_element(By.XPATH, school_xpaths[0])\n",
    "filetype_sel.send_keys('학교폭력 실태조사 결과')\n",
    "\n",
    "time.sleep(1)\n",
    "filetype_sel =  driver.find_element(By.XPATH,'//*[@id=\"passLine67\"]')\n",
    "sec_num=input('보안코드입력 : ')\n",
    "filetype_sel.send_keys(str(sec_num))\n",
    "\n",
    "time.sleep(1)\n",
    "sec_num_btn =  driver.find_element(By.XPATH,'//*[@id=\"frmSubmit67\"]')\n",
    "driver.execute_script(\"arguments[0].click();\", sec_num_btn)\n",
    "\n",
    "time.sleep(1)\n",
    "\n",
    "# 초기 df1, df2 생성\n",
    "html=driver.page_source\n",
    "soup=BeautifulSoup(html,'html.parser')\n",
    "temp=soup.find_all('table')\n",
    "\n",
    "t1 = parser.make2d(temp[1])\n",
    "t2 = parser.make2d(temp[2])\n",
    "t3 = parser.make2d(temp[3])\n",
    "t4 = parser.make2d(temp[4])\n",
    "t5 = parser.make2d(temp[5])\n",
    "\n",
    "df1=pd.DataFrame(t1[2:], columns=t1[1])\n",
    "df2=pd.DataFrame(t2[1:], columns=t2[0])\n",
    "df3=pd.DataFrame(t3[1:], columns=t3[0])\n",
    "df4=pd.DataFrame(t4[1:], columns=t4[0])\n",
    "df5=pd.DataFrame(t5[1:], columns=t5[0])"
   ]
  },
  {
   "cell_type": "code",
   "execution_count": 370,
   "id": "11b40c9a",
   "metadata": {},
   "outputs": [
    {
     "name": "stdout",
     "output_type": "stream",
     "text": [
      "        구분 언어폭력 강요 금품갈취 신체폭력 사이버폭력 집단따돌림 기타\n",
      "0  2021학년도    0  0    0    0     0     0  0\n"
     ]
    }
   ],
   "source": [
    "print(df2)"
   ]
  },
  {
   "cell_type": "code",
   "execution_count": 371,
   "id": "74ca75fd",
   "metadata": {},
   "outputs": [
    {
     "name": "stdout",
     "output_type": "stream",
     "text": [
      "보안코드입력 : 666490\n",
      "보안코드입력 : 210867\n",
      "보안코드입력 : 083825\n",
      "보안코드입력 : 958675\n",
      "보안코드입력 : 733414\n",
      "보안코드입력 : 171181\n",
      "보안코드입력 : 433118\n",
      "보안코드입력 : 652448\n",
      "보안코드입력 : 181203\n",
      "[]\n"
     ]
    }
   ],
   "source": [
    "error_idx = list()\n",
    "for idx, school_xpath in enumerate(school_xpaths[1:]):\n",
    "    try:\n",
    "        time.sleep(1)\n",
    "        filetype_sel = driver.find_element(By.XPATH, school_xpath)\n",
    "        filetype_sel.send_keys('학교폭력 실태조사 결과')\n",
    "\n",
    "        time.sleep(1)\n",
    "        while(True):\n",
    "\n",
    "            filetype_sel =  driver.find_element(By.XPATH,'//*[@id=\"passLine67\"]')\n",
    "            sec_num=input('보안코드입력 : ')\n",
    "            filetype_sel.send_keys(str(sec_num))\n",
    "\n",
    "            time.sleep(1)\n",
    "            sec_num_btn =  driver.find_element(By.XPATH,'//*[@id=\"frmSubmit67\"]')\n",
    "            driver.execute_script(\"arguments[0].click();\", sec_num_btn)\n",
    "\n",
    "            time.sleep(1)\n",
    "\n",
    "            # 초기 df1, df2 생성\n",
    "            html=driver.page_source\n",
    "            soup=BeautifulSoup(html,'html.parser')\n",
    "            temp=soup.find_all('table')\n",
    "\n",
    "            try:\n",
    "                t1 = parser.make2d(temp[1])\n",
    "                t2 = parser.make2d(temp[2])\n",
    "                t3 = parser.make2d(temp[3])\n",
    "                t4 = parser.make2d(temp[4])\n",
    "                t5 = parser.make2d(temp[5])\n",
    "\n",
    "                break\n",
    "            except:\n",
    "                continue\n",
    "\n",
    "\n",
    "        temp_df1=pd.DataFrame(t1[2:], columns=t1[1])\n",
    "        temp_df2=pd.DataFrame(t2[1:], columns=t2[0])\n",
    "        temp_df3=pd.DataFrame(t3[1:], columns=t3[0])\n",
    "        temp_df4=pd.DataFrame(t4[1:], columns=t4[0])\n",
    "        temp_df5=pd.DataFrame(t5[1:], columns=t5[0])\n",
    "\n",
    "        df1=pd.concat([df1,temp_df1])    \n",
    "        df2=pd.concat([df2,temp_df2])\n",
    "        df3=pd.concat([df3,temp_df3])    \n",
    "        df4=pd.concat([df4,temp_df4])\n",
    "        df5=pd.concat([df5,temp_df5])\n",
    "    except:\n",
    "        error_idx.append(school_names[idx+1])\n",
    "        \n",
    "for error_school in error_idx:\n",
    "    school_names.remove(error_school)\n",
    "print(error_idx)"
   ]
  },
  {
   "cell_type": "code",
   "execution_count": 372,
   "id": "7fbb4895",
   "metadata": {},
   "outputs": [],
   "source": [
    "names = school_names\n",
    "df1.reset_index(drop=True,inplace=True)\n",
    "df1['학교명']=names\n",
    "df1['구']=sigungu_options[num]\n",
    "final_df=df1[['구','학교명','구분', '대상 학생 수', '학생 수', '참여율(고등학교별 전국참여율)', '피해 응답 학생 수']]\n",
    "file_name= sigungu_options[num]+'_학교폭력_실태조사_조사참여현황.xlsx'\n",
    "final_df.to_excel(file_name)"
   ]
  },
  {
   "cell_type": "code",
   "execution_count": 373,
   "id": "62037ddb",
   "metadata": {},
   "outputs": [],
   "source": [
    "names = school_names\n",
    "df2.reset_index(drop=True,inplace=True)\n",
    "df2['학교명']=names\n",
    "df2['구']=sigungu_options[num]\n",
    "final_df=df2[['구','학교명','구분', '강요', '금품갈취', '신체폭력', '사이버폭력', '집단따돌림','기타']]\n",
    "file_name= sigungu_options[num]+'_학교폭력_실태조사_피해유형(복수응답).xlsx'\n",
    "final_df.to_excel(file_name)"
   ]
  },
  {
   "cell_type": "code",
   "execution_count": 374,
   "id": "9a952ce9",
   "metadata": {},
   "outputs": [],
   "source": [
    "names = school_names\n",
    "df3.reset_index(drop=True,inplace=True)\n",
    "df3['학교명']=names\n",
    "df3['구']=sigungu_options[num]\n",
    "final_df=df3[['구','학교명','구분', '등교시간', '수업시간', '쉬는시간', '점심시간', '학교 안방과후 시간', '하교시간','학교 밖체험활동 시간', '학교 일과가끝난 후', '기타']]\n",
    "file_name= sigungu_options[num]+'_학교폭력_실태조사_피해시간(복수응답).xlsx'\n",
    "final_df.to_excel(file_name)"
   ]
  },
  {
   "cell_type": "code",
   "execution_count": 375,
   "id": "29a859b1",
   "metadata": {},
   "outputs": [],
   "source": [
    "names = school_names\n",
    "df4.reset_index(drop=True,inplace=True)\n",
    "df4['학교명']=names\n",
    "df4['구']=sigungu_options[num]\n",
    "final_df=df4[['구','학교명','구분', '교실안', '특별실,방과후 교실 등', '복도,계단', '화장실', '운동장,체육관,강당 등', '급식실,매점 등','기숙사', '학원이나학원 근처', '집이나집 근처', 'PC방,노래방,오락실 등', '공원, 놀이터,골목, 공터,뒷산 등','학교 밖체험활동 장소', '사이버공간', '기타']]\n",
    "file_name= sigungu_options[num]+'_학교폭력_실태조사_피해장소(복수응답).xlsx'\n",
    "final_df.to_excel(file_name)"
   ]
  },
  {
   "cell_type": "code",
   "execution_count": 376,
   "id": "de6e642d",
   "metadata": {},
   "outputs": [],
   "source": [
    "names = school_names\n",
    "df5.reset_index(drop=True,inplace=True)\n",
    "df5['학교명']=names\n",
    "df5['구']=sigungu_options[num]\n",
    "final_df=df5[['구','학교명','구분','나의보호자나친척', '학교선생님', '학교상담실선생님', '학교폭력신고함이나학교 익명게시판', '친구나선·후배','학교전담경찰관,경찰', '117학교폭력신고센터', '학교 밖상담 기관', '아무에게도알리지않음']]\n",
    "file_name= sigungu_options[num]+'_학교폭력_실태조사_피해신고현황.xlsx'\n",
    "final_df.to_excel(file_name)"
   ]
  },
  {
   "cell_type": "code",
   "execution_count": 377,
   "id": "f184ca2c",
   "metadata": {},
   "outputs": [
    {
     "data": {
      "text/plain": [
       "['면목고등학교',\n",
       " '송곡고등학교',\n",
       " '송곡관광고등학교',\n",
       " '송곡여자고등학교',\n",
       " '신현고등학교',\n",
       " '원묵고등학교',\n",
       " '이화여자대학교병설미디어고등학교',\n",
       " '중화고등학교',\n",
       " '태릉고등학교',\n",
       " '혜원여자고등학교']"
      ]
     },
     "execution_count": 377,
     "metadata": {},
     "output_type": "execute_result"
    }
   ],
   "source": [
    "school_names"
   ]
  },
  {
   "cell_type": "code",
   "execution_count": null,
   "id": "57d865d6",
   "metadata": {},
   "outputs": [],
   "source": []
  }
 ],
 "metadata": {
  "kernelspec": {
   "display_name": "Python 3 (ipykernel)",
   "language": "python",
   "name": "python3"
  },
  "language_info": {
   "codemirror_mode": {
    "name": "ipython",
    "version": 3
   },
   "file_extension": ".py",
   "mimetype": "text/x-python",
   "name": "python",
   "nbconvert_exporter": "python",
   "pygments_lexer": "ipython3",
   "version": "3.9.15"
  }
 },
 "nbformat": 4,
 "nbformat_minor": 5
}
